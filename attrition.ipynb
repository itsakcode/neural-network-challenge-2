{
  "cells": [
    {
      "cell_type": "markdown",
      "metadata": {
        "id": "alIIEHibGc3M"
      },
      "source": [
        "## Part 1: Preprocessing"
      ]
    },
    {
      "cell_type": "code",
      "execution_count": 1,
      "metadata": {
        "colab": {
          "base_uri": "https://localhost:8080/",
          "height": 325
        },
        "id": "6eDUJ4NtGc3P",
        "outputId": "2480098c-135c-4cbf-9552-018494ee8ff5"
      },
      "outputs": [
        {
          "data": {
            "text/html": [
              "<div>\n",
              "<style scoped>\n",
              "    .dataframe tbody tr th:only-of-type {\n",
              "        vertical-align: middle;\n",
              "    }\n",
              "\n",
              "    .dataframe tbody tr th {\n",
              "        vertical-align: top;\n",
              "    }\n",
              "\n",
              "    .dataframe thead th {\n",
              "        text-align: right;\n",
              "    }\n",
              "</style>\n",
              "<table border=\"1\" class=\"dataframe\">\n",
              "  <thead>\n",
              "    <tr style=\"text-align: right;\">\n",
              "      <th></th>\n",
              "      <th>Age</th>\n",
              "      <th>Attrition</th>\n",
              "      <th>BusinessTravel</th>\n",
              "      <th>Department</th>\n",
              "      <th>DistanceFromHome</th>\n",
              "      <th>Education</th>\n",
              "      <th>EducationField</th>\n",
              "      <th>EnvironmentSatisfaction</th>\n",
              "      <th>HourlyRate</th>\n",
              "      <th>JobInvolvement</th>\n",
              "      <th>...</th>\n",
              "      <th>PerformanceRating</th>\n",
              "      <th>RelationshipSatisfaction</th>\n",
              "      <th>StockOptionLevel</th>\n",
              "      <th>TotalWorkingYears</th>\n",
              "      <th>TrainingTimesLastYear</th>\n",
              "      <th>WorkLifeBalance</th>\n",
              "      <th>YearsAtCompany</th>\n",
              "      <th>YearsInCurrentRole</th>\n",
              "      <th>YearsSinceLastPromotion</th>\n",
              "      <th>YearsWithCurrManager</th>\n",
              "    </tr>\n",
              "  </thead>\n",
              "  <tbody>\n",
              "    <tr>\n",
              "      <th>0</th>\n",
              "      <td>41</td>\n",
              "      <td>Yes</td>\n",
              "      <td>Travel_Rarely</td>\n",
              "      <td>Sales</td>\n",
              "      <td>1</td>\n",
              "      <td>2</td>\n",
              "      <td>Life Sciences</td>\n",
              "      <td>2</td>\n",
              "      <td>94</td>\n",
              "      <td>3</td>\n",
              "      <td>...</td>\n",
              "      <td>3</td>\n",
              "      <td>1</td>\n",
              "      <td>0</td>\n",
              "      <td>8</td>\n",
              "      <td>0</td>\n",
              "      <td>1</td>\n",
              "      <td>6</td>\n",
              "      <td>4</td>\n",
              "      <td>0</td>\n",
              "      <td>5</td>\n",
              "    </tr>\n",
              "    <tr>\n",
              "      <th>1</th>\n",
              "      <td>49</td>\n",
              "      <td>No</td>\n",
              "      <td>Travel_Frequently</td>\n",
              "      <td>Research &amp; Development</td>\n",
              "      <td>8</td>\n",
              "      <td>1</td>\n",
              "      <td>Life Sciences</td>\n",
              "      <td>3</td>\n",
              "      <td>61</td>\n",
              "      <td>2</td>\n",
              "      <td>...</td>\n",
              "      <td>4</td>\n",
              "      <td>4</td>\n",
              "      <td>1</td>\n",
              "      <td>10</td>\n",
              "      <td>3</td>\n",
              "      <td>3</td>\n",
              "      <td>10</td>\n",
              "      <td>7</td>\n",
              "      <td>1</td>\n",
              "      <td>7</td>\n",
              "    </tr>\n",
              "    <tr>\n",
              "      <th>2</th>\n",
              "      <td>37</td>\n",
              "      <td>Yes</td>\n",
              "      <td>Travel_Rarely</td>\n",
              "      <td>Research &amp; Development</td>\n",
              "      <td>2</td>\n",
              "      <td>2</td>\n",
              "      <td>Other</td>\n",
              "      <td>4</td>\n",
              "      <td>92</td>\n",
              "      <td>2</td>\n",
              "      <td>...</td>\n",
              "      <td>3</td>\n",
              "      <td>2</td>\n",
              "      <td>0</td>\n",
              "      <td>7</td>\n",
              "      <td>3</td>\n",
              "      <td>3</td>\n",
              "      <td>0</td>\n",
              "      <td>0</td>\n",
              "      <td>0</td>\n",
              "      <td>0</td>\n",
              "    </tr>\n",
              "    <tr>\n",
              "      <th>3</th>\n",
              "      <td>33</td>\n",
              "      <td>No</td>\n",
              "      <td>Travel_Frequently</td>\n",
              "      <td>Research &amp; Development</td>\n",
              "      <td>3</td>\n",
              "      <td>4</td>\n",
              "      <td>Life Sciences</td>\n",
              "      <td>4</td>\n",
              "      <td>56</td>\n",
              "      <td>3</td>\n",
              "      <td>...</td>\n",
              "      <td>3</td>\n",
              "      <td>3</td>\n",
              "      <td>0</td>\n",
              "      <td>8</td>\n",
              "      <td>3</td>\n",
              "      <td>3</td>\n",
              "      <td>8</td>\n",
              "      <td>7</td>\n",
              "      <td>3</td>\n",
              "      <td>0</td>\n",
              "    </tr>\n",
              "    <tr>\n",
              "      <th>4</th>\n",
              "      <td>27</td>\n",
              "      <td>No</td>\n",
              "      <td>Travel_Rarely</td>\n",
              "      <td>Research &amp; Development</td>\n",
              "      <td>2</td>\n",
              "      <td>1</td>\n",
              "      <td>Medical</td>\n",
              "      <td>1</td>\n",
              "      <td>40</td>\n",
              "      <td>3</td>\n",
              "      <td>...</td>\n",
              "      <td>3</td>\n",
              "      <td>4</td>\n",
              "      <td>1</td>\n",
              "      <td>6</td>\n",
              "      <td>3</td>\n",
              "      <td>3</td>\n",
              "      <td>2</td>\n",
              "      <td>2</td>\n",
              "      <td>2</td>\n",
              "      <td>2</td>\n",
              "    </tr>\n",
              "  </tbody>\n",
              "</table>\n",
              "<p>5 rows × 27 columns</p>\n",
              "</div>"
            ],
            "text/plain": [
              "   Age Attrition     BusinessTravel              Department  DistanceFromHome  \\\n",
              "0   41       Yes      Travel_Rarely                   Sales                 1   \n",
              "1   49        No  Travel_Frequently  Research & Development                 8   \n",
              "2   37       Yes      Travel_Rarely  Research & Development                 2   \n",
              "3   33        No  Travel_Frequently  Research & Development                 3   \n",
              "4   27        No      Travel_Rarely  Research & Development                 2   \n",
              "\n",
              "   Education EducationField  EnvironmentSatisfaction  HourlyRate  \\\n",
              "0          2  Life Sciences                        2          94   \n",
              "1          1  Life Sciences                        3          61   \n",
              "2          2          Other                        4          92   \n",
              "3          4  Life Sciences                        4          56   \n",
              "4          1        Medical                        1          40   \n",
              "\n",
              "   JobInvolvement  ...  PerformanceRating RelationshipSatisfaction  \\\n",
              "0               3  ...                  3                        1   \n",
              "1               2  ...                  4                        4   \n",
              "2               2  ...                  3                        2   \n",
              "3               3  ...                  3                        3   \n",
              "4               3  ...                  3                        4   \n",
              "\n",
              "   StockOptionLevel TotalWorkingYears  TrainingTimesLastYear WorkLifeBalance  \\\n",
              "0                 0                 8                      0               1   \n",
              "1                 1                10                      3               3   \n",
              "2                 0                 7                      3               3   \n",
              "3                 0                 8                      3               3   \n",
              "4                 1                 6                      3               3   \n",
              "\n",
              "   YearsAtCompany  YearsInCurrentRole  YearsSinceLastPromotion  \\\n",
              "0               6                   4                        0   \n",
              "1              10                   7                        1   \n",
              "2               0                   0                        0   \n",
              "3               8                   7                        3   \n",
              "4               2                   2                        2   \n",
              "\n",
              "   YearsWithCurrManager  \n",
              "0                     5  \n",
              "1                     7  \n",
              "2                     0  \n",
              "3                     0  \n",
              "4                     2  \n",
              "\n",
              "[5 rows x 27 columns]"
            ]
          },
          "execution_count": 1,
          "metadata": {},
          "output_type": "execute_result"
        }
      ],
      "source": [
        "# Import our dependencies\n",
        "from sklearn.model_selection import train_test_split\n",
        "from sklearn.preprocessing import StandardScaler\n",
        "import pandas as pd\n",
        "import numpy as np\n",
        "import tensorflow as tf\n",
        "from tensorflow.keras.models import Model\n",
        "from tensorflow.keras import layers\n",
        "from tensorflow import keras\n",
        "\n",
        "#  Import and read the attrition data\n",
        "attrition_df = pd.read_csv('https://static.bc-edx.com/ai/ail-v-1-0/m19/lms/datasets/attrition.csv')\n",
        "attrition_df.head()"
      ]
    },
    {
      "cell_type": "code",
      "execution_count": 2,
      "metadata": {},
      "outputs": [
        {
          "name": "stdout",
          "output_type": "stream",
          "text": [
            "<class 'pandas.core.frame.DataFrame'>\n",
            "RangeIndex: 1470 entries, 0 to 1469\n",
            "Data columns (total 27 columns):\n",
            " #   Column                    Non-Null Count  Dtype \n",
            "---  ------                    --------------  ----- \n",
            " 0   Age                       1470 non-null   int64 \n",
            " 1   Attrition                 1470 non-null   object\n",
            " 2   BusinessTravel            1470 non-null   object\n",
            " 3   Department                1470 non-null   object\n",
            " 4   DistanceFromHome          1470 non-null   int64 \n",
            " 5   Education                 1470 non-null   int64 \n",
            " 6   EducationField            1470 non-null   object\n",
            " 7   EnvironmentSatisfaction   1470 non-null   int64 \n",
            " 8   HourlyRate                1470 non-null   int64 \n",
            " 9   JobInvolvement            1470 non-null   int64 \n",
            " 10  JobLevel                  1470 non-null   int64 \n",
            " 11  JobRole                   1470 non-null   object\n",
            " 12  JobSatisfaction           1470 non-null   int64 \n",
            " 13  MaritalStatus             1470 non-null   object\n",
            " 14  NumCompaniesWorked        1470 non-null   int64 \n",
            " 15  OverTime                  1470 non-null   object\n",
            " 16  PercentSalaryHike         1470 non-null   int64 \n",
            " 17  PerformanceRating         1470 non-null   int64 \n",
            " 18  RelationshipSatisfaction  1470 non-null   int64 \n",
            " 19  StockOptionLevel          1470 non-null   int64 \n",
            " 20  TotalWorkingYears         1470 non-null   int64 \n",
            " 21  TrainingTimesLastYear     1470 non-null   int64 \n",
            " 22  WorkLifeBalance           1470 non-null   int64 \n",
            " 23  YearsAtCompany            1470 non-null   int64 \n",
            " 24  YearsInCurrentRole        1470 non-null   int64 \n",
            " 25  YearsSinceLastPromotion   1470 non-null   int64 \n",
            " 26  YearsWithCurrManager      1470 non-null   int64 \n",
            "dtypes: int64(20), object(7)\n",
            "memory usage: 310.2+ KB\n"
          ]
        }
      ],
      "source": [
        "attrition_df.info()"
      ]
    },
    {
      "cell_type": "code",
      "execution_count": 3,
      "metadata": {
        "colab": {
          "base_uri": "https://localhost:8080/"
        },
        "id": "g22aQSY4Gc3Q",
        "outputId": "1f5c13c1-b981-4e40-a7ed-dd3fe6f1b81e"
      },
      "outputs": [
        {
          "data": {
            "text/plain": [
              "Age                         43\n",
              "Attrition                    2\n",
              "BusinessTravel               3\n",
              "Department                   3\n",
              "DistanceFromHome            29\n",
              "Education                    5\n",
              "EducationField               6\n",
              "EnvironmentSatisfaction      4\n",
              "HourlyRate                  71\n",
              "JobInvolvement               4\n",
              "JobLevel                     5\n",
              "JobRole                      9\n",
              "JobSatisfaction              4\n",
              "MaritalStatus                3\n",
              "NumCompaniesWorked          10\n",
              "OverTime                     2\n",
              "PercentSalaryHike           15\n",
              "PerformanceRating            2\n",
              "RelationshipSatisfaction     4\n",
              "StockOptionLevel             4\n",
              "TotalWorkingYears           40\n",
              "TrainingTimesLastYear        7\n",
              "WorkLifeBalance              4\n",
              "YearsAtCompany              37\n",
              "YearsInCurrentRole          19\n",
              "YearsSinceLastPromotion     16\n",
              "YearsWithCurrManager        18\n",
              "dtype: int64"
            ]
          },
          "execution_count": 3,
          "metadata": {},
          "output_type": "execute_result"
        }
      ],
      "source": [
        "# Determine the number of unique values in each column.\n",
        "attrition_df.nunique()"
      ]
    },
    {
      "cell_type": "code",
      "execution_count": 4,
      "metadata": {
        "id": "50vMgBEnJbfM"
      },
      "outputs": [
        {
          "data": {
            "text/plain": [
              "Attrition  Department            \n",
              "No         Research & Development    828\n",
              "           Sales                     354\n",
              "Yes        Research & Development    133\n",
              "           Sales                      92\n",
              "No         Human Resources            51\n",
              "Yes        Human Resources            12\n",
              "Name: count, dtype: int64"
            ]
          },
          "execution_count": 4,
          "metadata": {},
          "output_type": "execute_result"
        }
      ],
      "source": [
        "# Create y_df with the Attrition and Department columns\n",
        "y = attrition_df[['Attrition', 'Department']]\n",
        "y.value_counts()"
      ]
    },
    {
      "cell_type": "code",
      "execution_count": 5,
      "metadata": {},
      "outputs": [
        {
          "data": {
            "text/plain": [
              "Department\n",
              "Research & Development    961\n",
              "Sales                     446\n",
              "Human Resources            63\n",
              "Name: count, dtype: int64"
            ]
          },
          "execution_count": 5,
          "metadata": {},
          "output_type": "execute_result"
        }
      ],
      "source": [
        "y['Department'].value_counts()"
      ]
    },
    {
      "cell_type": "code",
      "execution_count": 6,
      "metadata": {},
      "outputs": [
        {
          "data": {
            "text/plain": [
              "Attrition\n",
              "No     1233\n",
              "Yes     237\n",
              "Name: count, dtype: int64"
            ]
          },
          "execution_count": 6,
          "metadata": {},
          "output_type": "execute_result"
        }
      ],
      "source": [
        "y['Attrition'].value_counts()"
      ]
    },
    {
      "cell_type": "code",
      "execution_count": 7,
      "metadata": {
        "colab": {
          "base_uri": "https://localhost:8080/"
        },
        "id": "Virka0zLGc3R",
        "outputId": "dd5aee3a-9458-4ba6-e857-1b234de40915"
      },
      "outputs": [
        {
          "data": {
            "text/html": [
              "<div>\n",
              "<style scoped>\n",
              "    .dataframe tbody tr th:only-of-type {\n",
              "        vertical-align: middle;\n",
              "    }\n",
              "\n",
              "    .dataframe tbody tr th {\n",
              "        vertical-align: top;\n",
              "    }\n",
              "\n",
              "    .dataframe thead th {\n",
              "        text-align: right;\n",
              "    }\n",
              "</style>\n",
              "<table border=\"1\" class=\"dataframe\">\n",
              "  <thead>\n",
              "    <tr style=\"text-align: right;\">\n",
              "      <th></th>\n",
              "      <th>Age</th>\n",
              "      <th>BusinessTravel</th>\n",
              "      <th>DistanceFromHome</th>\n",
              "      <th>HourlyRate</th>\n",
              "      <th>JobInvolvement</th>\n",
              "      <th>JobSatisfaction</th>\n",
              "      <th>MaritalStatus</th>\n",
              "      <th>NumCompaniesWorked</th>\n",
              "      <th>PercentSalaryHike</th>\n",
              "      <th>PerformanceRating</th>\n",
              "      <th>WorkLifeBalance</th>\n",
              "      <th>YearsSinceLastPromotion</th>\n",
              "    </tr>\n",
              "  </thead>\n",
              "  <tbody>\n",
              "    <tr>\n",
              "      <th>0</th>\n",
              "      <td>41</td>\n",
              "      <td>Travel_Rarely</td>\n",
              "      <td>1</td>\n",
              "      <td>94</td>\n",
              "      <td>3</td>\n",
              "      <td>4</td>\n",
              "      <td>Single</td>\n",
              "      <td>8</td>\n",
              "      <td>11</td>\n",
              "      <td>3</td>\n",
              "      <td>1</td>\n",
              "      <td>0</td>\n",
              "    </tr>\n",
              "    <tr>\n",
              "      <th>1</th>\n",
              "      <td>49</td>\n",
              "      <td>Travel_Frequently</td>\n",
              "      <td>8</td>\n",
              "      <td>61</td>\n",
              "      <td>2</td>\n",
              "      <td>2</td>\n",
              "      <td>Married</td>\n",
              "      <td>1</td>\n",
              "      <td>23</td>\n",
              "      <td>4</td>\n",
              "      <td>3</td>\n",
              "      <td>1</td>\n",
              "    </tr>\n",
              "    <tr>\n",
              "      <th>2</th>\n",
              "      <td>37</td>\n",
              "      <td>Travel_Rarely</td>\n",
              "      <td>2</td>\n",
              "      <td>92</td>\n",
              "      <td>2</td>\n",
              "      <td>3</td>\n",
              "      <td>Single</td>\n",
              "      <td>6</td>\n",
              "      <td>15</td>\n",
              "      <td>3</td>\n",
              "      <td>3</td>\n",
              "      <td>0</td>\n",
              "    </tr>\n",
              "    <tr>\n",
              "      <th>3</th>\n",
              "      <td>33</td>\n",
              "      <td>Travel_Frequently</td>\n",
              "      <td>3</td>\n",
              "      <td>56</td>\n",
              "      <td>3</td>\n",
              "      <td>3</td>\n",
              "      <td>Married</td>\n",
              "      <td>1</td>\n",
              "      <td>11</td>\n",
              "      <td>3</td>\n",
              "      <td>3</td>\n",
              "      <td>3</td>\n",
              "    </tr>\n",
              "    <tr>\n",
              "      <th>4</th>\n",
              "      <td>27</td>\n",
              "      <td>Travel_Rarely</td>\n",
              "      <td>2</td>\n",
              "      <td>40</td>\n",
              "      <td>3</td>\n",
              "      <td>2</td>\n",
              "      <td>Married</td>\n",
              "      <td>9</td>\n",
              "      <td>12</td>\n",
              "      <td>3</td>\n",
              "      <td>3</td>\n",
              "      <td>2</td>\n",
              "    </tr>\n",
              "    <tr>\n",
              "      <th>...</th>\n",
              "      <td>...</td>\n",
              "      <td>...</td>\n",
              "      <td>...</td>\n",
              "      <td>...</td>\n",
              "      <td>...</td>\n",
              "      <td>...</td>\n",
              "      <td>...</td>\n",
              "      <td>...</td>\n",
              "      <td>...</td>\n",
              "      <td>...</td>\n",
              "      <td>...</td>\n",
              "      <td>...</td>\n",
              "    </tr>\n",
              "    <tr>\n",
              "      <th>1465</th>\n",
              "      <td>36</td>\n",
              "      <td>Travel_Frequently</td>\n",
              "      <td>23</td>\n",
              "      <td>41</td>\n",
              "      <td>4</td>\n",
              "      <td>4</td>\n",
              "      <td>Married</td>\n",
              "      <td>4</td>\n",
              "      <td>17</td>\n",
              "      <td>3</td>\n",
              "      <td>3</td>\n",
              "      <td>0</td>\n",
              "    </tr>\n",
              "    <tr>\n",
              "      <th>1466</th>\n",
              "      <td>39</td>\n",
              "      <td>Travel_Rarely</td>\n",
              "      <td>6</td>\n",
              "      <td>42</td>\n",
              "      <td>2</td>\n",
              "      <td>1</td>\n",
              "      <td>Married</td>\n",
              "      <td>4</td>\n",
              "      <td>15</td>\n",
              "      <td>3</td>\n",
              "      <td>3</td>\n",
              "      <td>1</td>\n",
              "    </tr>\n",
              "    <tr>\n",
              "      <th>1467</th>\n",
              "      <td>27</td>\n",
              "      <td>Travel_Rarely</td>\n",
              "      <td>4</td>\n",
              "      <td>87</td>\n",
              "      <td>4</td>\n",
              "      <td>2</td>\n",
              "      <td>Married</td>\n",
              "      <td>1</td>\n",
              "      <td>20</td>\n",
              "      <td>4</td>\n",
              "      <td>3</td>\n",
              "      <td>0</td>\n",
              "    </tr>\n",
              "    <tr>\n",
              "      <th>1468</th>\n",
              "      <td>49</td>\n",
              "      <td>Travel_Frequently</td>\n",
              "      <td>2</td>\n",
              "      <td>63</td>\n",
              "      <td>2</td>\n",
              "      <td>2</td>\n",
              "      <td>Married</td>\n",
              "      <td>2</td>\n",
              "      <td>14</td>\n",
              "      <td>3</td>\n",
              "      <td>2</td>\n",
              "      <td>0</td>\n",
              "    </tr>\n",
              "    <tr>\n",
              "      <th>1469</th>\n",
              "      <td>34</td>\n",
              "      <td>Travel_Rarely</td>\n",
              "      <td>8</td>\n",
              "      <td>82</td>\n",
              "      <td>4</td>\n",
              "      <td>3</td>\n",
              "      <td>Married</td>\n",
              "      <td>2</td>\n",
              "      <td>12</td>\n",
              "      <td>3</td>\n",
              "      <td>4</td>\n",
              "      <td>1</td>\n",
              "    </tr>\n",
              "  </tbody>\n",
              "</table>\n",
              "<p>1470 rows × 12 columns</p>\n",
              "</div>"
            ],
            "text/plain": [
              "      Age     BusinessTravel  DistanceFromHome  HourlyRate  JobInvolvement  \\\n",
              "0      41      Travel_Rarely                 1          94               3   \n",
              "1      49  Travel_Frequently                 8          61               2   \n",
              "2      37      Travel_Rarely                 2          92               2   \n",
              "3      33  Travel_Frequently                 3          56               3   \n",
              "4      27      Travel_Rarely                 2          40               3   \n",
              "...   ...                ...               ...         ...             ...   \n",
              "1465   36  Travel_Frequently                23          41               4   \n",
              "1466   39      Travel_Rarely                 6          42               2   \n",
              "1467   27      Travel_Rarely                 4          87               4   \n",
              "1468   49  Travel_Frequently                 2          63               2   \n",
              "1469   34      Travel_Rarely                 8          82               4   \n",
              "\n",
              "      JobSatisfaction MaritalStatus  NumCompaniesWorked  PercentSalaryHike  \\\n",
              "0                   4        Single                   8                 11   \n",
              "1                   2       Married                   1                 23   \n",
              "2                   3        Single                   6                 15   \n",
              "3                   3       Married                   1                 11   \n",
              "4                   2       Married                   9                 12   \n",
              "...               ...           ...                 ...                ...   \n",
              "1465                4       Married                   4                 17   \n",
              "1466                1       Married                   4                 15   \n",
              "1467                2       Married                   1                 20   \n",
              "1468                2       Married                   2                 14   \n",
              "1469                3       Married                   2                 12   \n",
              "\n",
              "      PerformanceRating  WorkLifeBalance  YearsSinceLastPromotion  \n",
              "0                     3                1                        0  \n",
              "1                     4                3                        1  \n",
              "2                     3                3                        0  \n",
              "3                     3                3                        3  \n",
              "4                     3                3                        2  \n",
              "...                 ...              ...                      ...  \n",
              "1465                  3                3                        0  \n",
              "1466                  3                3                        1  \n",
              "1467                  4                3                        0  \n",
              "1468                  3                2                        0  \n",
              "1469                  3                4                        1  \n",
              "\n",
              "[1470 rows x 12 columns]"
            ]
          },
          "execution_count": 7,
          "metadata": {},
          "output_type": "execute_result"
        }
      ],
      "source": [
        "# Create a list of at least 10 column names to use as X data\n",
        "X_columns = ['Age', 'BusinessTravel', 'DistanceFromHome', \\\n",
        "             'HourlyRate', 'JobInvolvement', 'JobSatisfaction', \\\n",
        "                'MaritalStatus', 'NumCompaniesWorked', 'PercentSalaryHike',\\\n",
        "                    'PerformanceRating', 'WorkLifeBalance', 'YearsSinceLastPromotion']\n",
        "\n",
        "# Create X_df using your selected columns\n",
        "X = attrition_df[X_columns].copy()\n",
        "\n",
        "# Show the data types for X_df\n",
        "X\n"
      ]
    },
    {
      "cell_type": "code",
      "execution_count": 8,
      "metadata": {},
      "outputs": [
        {
          "name": "stdout",
          "output_type": "stream",
          "text": [
            "<class 'pandas.core.frame.DataFrame'>\n",
            "RangeIndex: 1470 entries, 0 to 1469\n",
            "Data columns (total 12 columns):\n",
            " #   Column                   Non-Null Count  Dtype \n",
            "---  ------                   --------------  ----- \n",
            " 0   Age                      1470 non-null   int64 \n",
            " 1   BusinessTravel           1470 non-null   object\n",
            " 2   DistanceFromHome         1470 non-null   int64 \n",
            " 3   HourlyRate               1470 non-null   int64 \n",
            " 4   JobInvolvement           1470 non-null   int64 \n",
            " 5   JobSatisfaction          1470 non-null   int64 \n",
            " 6   MaritalStatus            1470 non-null   object\n",
            " 7   NumCompaniesWorked       1470 non-null   int64 \n",
            " 8   PercentSalaryHike        1470 non-null   int64 \n",
            " 9   PerformanceRating        1470 non-null   int64 \n",
            " 10  WorkLifeBalance          1470 non-null   int64 \n",
            " 11  YearsSinceLastPromotion  1470 non-null   int64 \n",
            "dtypes: int64(10), object(2)\n",
            "memory usage: 137.9+ KB\n"
          ]
        }
      ],
      "source": [
        "X.info()"
      ]
    },
    {
      "cell_type": "code",
      "execution_count": 9,
      "metadata": {},
      "outputs": [
        {
          "data": {
            "text/plain": [
              "BusinessTravel    3\n",
              "MaritalStatus     3\n",
              "dtype: int64"
            ]
          },
          "execution_count": 9,
          "metadata": {},
          "output_type": "execute_result"
        }
      ],
      "source": [
        "X[['BusinessTravel', 'MaritalStatus']].nunique()"
      ]
    },
    {
      "cell_type": "code",
      "execution_count": 10,
      "metadata": {},
      "outputs": [
        {
          "data": {
            "text/html": [
              "<div>\n",
              "<style scoped>\n",
              "    .dataframe tbody tr th:only-of-type {\n",
              "        vertical-align: middle;\n",
              "    }\n",
              "\n",
              "    .dataframe tbody tr th {\n",
              "        vertical-align: top;\n",
              "    }\n",
              "\n",
              "    .dataframe thead th {\n",
              "        text-align: right;\n",
              "    }\n",
              "</style>\n",
              "<table border=\"1\" class=\"dataframe\">\n",
              "  <thead>\n",
              "    <tr style=\"text-align: right;\">\n",
              "      <th></th>\n",
              "      <th>BusinessTravel_Non-Travel</th>\n",
              "      <th>BusinessTravel_Travel_Frequently</th>\n",
              "      <th>BusinessTravel_Travel_Rarely</th>\n",
              "      <th>MaritalStatus_Divorced</th>\n",
              "      <th>MaritalStatus_Married</th>\n",
              "      <th>MaritalStatus_Single</th>\n",
              "    </tr>\n",
              "  </thead>\n",
              "  <tbody>\n",
              "    <tr>\n",
              "      <th>0</th>\n",
              "      <td>0.0</td>\n",
              "      <td>0.0</td>\n",
              "      <td>1.0</td>\n",
              "      <td>0.0</td>\n",
              "      <td>0.0</td>\n",
              "      <td>1.0</td>\n",
              "    </tr>\n",
              "    <tr>\n",
              "      <th>1</th>\n",
              "      <td>0.0</td>\n",
              "      <td>1.0</td>\n",
              "      <td>0.0</td>\n",
              "      <td>0.0</td>\n",
              "      <td>1.0</td>\n",
              "      <td>0.0</td>\n",
              "    </tr>\n",
              "    <tr>\n",
              "      <th>2</th>\n",
              "      <td>0.0</td>\n",
              "      <td>0.0</td>\n",
              "      <td>1.0</td>\n",
              "      <td>0.0</td>\n",
              "      <td>0.0</td>\n",
              "      <td>1.0</td>\n",
              "    </tr>\n",
              "    <tr>\n",
              "      <th>3</th>\n",
              "      <td>0.0</td>\n",
              "      <td>1.0</td>\n",
              "      <td>0.0</td>\n",
              "      <td>0.0</td>\n",
              "      <td>1.0</td>\n",
              "      <td>0.0</td>\n",
              "    </tr>\n",
              "    <tr>\n",
              "      <th>4</th>\n",
              "      <td>0.0</td>\n",
              "      <td>0.0</td>\n",
              "      <td>1.0</td>\n",
              "      <td>0.0</td>\n",
              "      <td>1.0</td>\n",
              "      <td>0.0</td>\n",
              "    </tr>\n",
              "    <tr>\n",
              "      <th>...</th>\n",
              "      <td>...</td>\n",
              "      <td>...</td>\n",
              "      <td>...</td>\n",
              "      <td>...</td>\n",
              "      <td>...</td>\n",
              "      <td>...</td>\n",
              "    </tr>\n",
              "    <tr>\n",
              "      <th>1465</th>\n",
              "      <td>0.0</td>\n",
              "      <td>1.0</td>\n",
              "      <td>0.0</td>\n",
              "      <td>0.0</td>\n",
              "      <td>1.0</td>\n",
              "      <td>0.0</td>\n",
              "    </tr>\n",
              "    <tr>\n",
              "      <th>1466</th>\n",
              "      <td>0.0</td>\n",
              "      <td>0.0</td>\n",
              "      <td>1.0</td>\n",
              "      <td>0.0</td>\n",
              "      <td>1.0</td>\n",
              "      <td>0.0</td>\n",
              "    </tr>\n",
              "    <tr>\n",
              "      <th>1467</th>\n",
              "      <td>0.0</td>\n",
              "      <td>0.0</td>\n",
              "      <td>1.0</td>\n",
              "      <td>0.0</td>\n",
              "      <td>1.0</td>\n",
              "      <td>0.0</td>\n",
              "    </tr>\n",
              "    <tr>\n",
              "      <th>1468</th>\n",
              "      <td>0.0</td>\n",
              "      <td>1.0</td>\n",
              "      <td>0.0</td>\n",
              "      <td>0.0</td>\n",
              "      <td>1.0</td>\n",
              "      <td>0.0</td>\n",
              "    </tr>\n",
              "    <tr>\n",
              "      <th>1469</th>\n",
              "      <td>0.0</td>\n",
              "      <td>0.0</td>\n",
              "      <td>1.0</td>\n",
              "      <td>0.0</td>\n",
              "      <td>1.0</td>\n",
              "      <td>0.0</td>\n",
              "    </tr>\n",
              "  </tbody>\n",
              "</table>\n",
              "<p>1470 rows × 6 columns</p>\n",
              "</div>"
            ],
            "text/plain": [
              "      BusinessTravel_Non-Travel  BusinessTravel_Travel_Frequently  \\\n",
              "0                           0.0                               0.0   \n",
              "1                           0.0                               1.0   \n",
              "2                           0.0                               0.0   \n",
              "3                           0.0                               1.0   \n",
              "4                           0.0                               0.0   \n",
              "...                         ...                               ...   \n",
              "1465                        0.0                               1.0   \n",
              "1466                        0.0                               0.0   \n",
              "1467                        0.0                               0.0   \n",
              "1468                        0.0                               1.0   \n",
              "1469                        0.0                               0.0   \n",
              "\n",
              "      BusinessTravel_Travel_Rarely  MaritalStatus_Divorced  \\\n",
              "0                              1.0                     0.0   \n",
              "1                              0.0                     0.0   \n",
              "2                              1.0                     0.0   \n",
              "3                              0.0                     0.0   \n",
              "4                              1.0                     0.0   \n",
              "...                            ...                     ...   \n",
              "1465                           0.0                     0.0   \n",
              "1466                           1.0                     0.0   \n",
              "1467                           1.0                     0.0   \n",
              "1468                           0.0                     0.0   \n",
              "1469                           1.0                     0.0   \n",
              "\n",
              "      MaritalStatus_Married  MaritalStatus_Single  \n",
              "0                       0.0                   1.0  \n",
              "1                       1.0                   0.0  \n",
              "2                       0.0                   1.0  \n",
              "3                       1.0                   0.0  \n",
              "4                       1.0                   0.0  \n",
              "...                     ...                   ...  \n",
              "1465                    1.0                   0.0  \n",
              "1466                    1.0                   0.0  \n",
              "1467                    1.0                   0.0  \n",
              "1468                    1.0                   0.0  \n",
              "1469                    1.0                   0.0  \n",
              "\n",
              "[1470 rows x 6 columns]"
            ]
          },
          "execution_count": 10,
          "metadata": {},
          "output_type": "execute_result"
        }
      ],
      "source": [
        "from sklearn.preprocessing import OneHotEncoder\n",
        "\n",
        "oh_encoder = OneHotEncoder(sparse_output=False)\n",
        "\n",
        "oh_df = pd.DataFrame(\n",
        "    oh_encoder.fit_transform(X[['BusinessTravel', 'MaritalStatus']]), \n",
        "    columns=oh_encoder.get_feature_names_out(['BusinessTravel', 'MaritalStatus']))\n",
        "oh_df"
      ]
    },
    {
      "cell_type": "code",
      "execution_count": 11,
      "metadata": {},
      "outputs": [
        {
          "name": "stdout",
          "output_type": "stream",
          "text": [
            "<class 'pandas.core.frame.DataFrame'>\n",
            "RangeIndex: 1470 entries, 0 to 1469\n",
            "Data columns (total 16 columns):\n",
            " #   Column                            Non-Null Count  Dtype  \n",
            "---  ------                            --------------  -----  \n",
            " 0   Age                               1470 non-null   int64  \n",
            " 1   DistanceFromHome                  1470 non-null   int64  \n",
            " 2   HourlyRate                        1470 non-null   int64  \n",
            " 3   JobInvolvement                    1470 non-null   int64  \n",
            " 4   JobSatisfaction                   1470 non-null   int64  \n",
            " 5   NumCompaniesWorked                1470 non-null   int64  \n",
            " 6   PercentSalaryHike                 1470 non-null   int64  \n",
            " 7   PerformanceRating                 1470 non-null   int64  \n",
            " 8   WorkLifeBalance                   1470 non-null   int64  \n",
            " 9   YearsSinceLastPromotion           1470 non-null   int64  \n",
            " 10  BusinessTravel_Non-Travel         1470 non-null   float64\n",
            " 11  BusinessTravel_Travel_Frequently  1470 non-null   float64\n",
            " 12  BusinessTravel_Travel_Rarely      1470 non-null   float64\n",
            " 13  MaritalStatus_Divorced            1470 non-null   float64\n",
            " 14  MaritalStatus_Married             1470 non-null   float64\n",
            " 15  MaritalStatus_Single              1470 non-null   float64\n",
            "dtypes: float64(6), int64(10)\n",
            "memory usage: 183.9 KB\n"
          ]
        }
      ],
      "source": [
        "final_X = X.merge(oh_df, left_index=True, right_index=True)\n",
        "final_X.drop(columns=['BusinessTravel', 'MaritalStatus'], axis=1, inplace=True)\n",
        "final_X.info()"
      ]
    },
    {
      "cell_type": "code",
      "execution_count": 12,
      "metadata": {},
      "outputs": [],
      "source": [
        "# Split the data into training and testing sets\n",
        "from sklearn.model_selection import train_test_split\n",
        "\n",
        "X_train, X_test, y_train, y_test = train_test_split(final_X, y, test_size=0.2)"
      ]
    },
    {
      "cell_type": "code",
      "execution_count": 13,
      "metadata": {
        "id": "EWA-aIA5Gc3T"
      },
      "outputs": [],
      "source": [
        "# Create a StandardScaler\n",
        "std_scaler = StandardScaler()\n",
        "\n",
        "# Fit the StandardScaler to the training data\n",
        "X_train_scaled = std_scaler.fit_transform(X_train)\n",
        "X_test_scaled = std_scaler.transform(X_test)"
      ]
    },
    {
      "cell_type": "code",
      "execution_count": 14,
      "metadata": {
        "colab": {
          "base_uri": "https://localhost:8080/"
        },
        "id": "-z0Mky8vQSz4",
        "outputId": "debefc85-c20b-48f5-f4d9-91eadd65d36a"
      },
      "outputs": [
        {
          "name": "stderr",
          "output_type": "stream",
          "text": [
            "/Applications/anaconda3/envs/dev/lib/python3.10/site-packages/sklearn/preprocessing/_encoders.py:972: FutureWarning: `sparse` was renamed to `sparse_output` in version 1.2 and will be removed in 1.4. `sparse_output` is ignored unless you leave `sparse` to its default value.\n",
            "  warnings.warn(\n"
          ]
        }
      ],
      "source": [
        "# Create a OneHotEncoder for the Department column\n",
        "d_oneHot_Encoder = OneHotEncoder(sparse=True)\n",
        "\n",
        "# Fit the encoder to the training data\n",
        "d_oneHot_Encoder.fit([[yd] for yd in y_train['Department']])\n",
        "\n",
        "# Create two new variables by applying the encoder\n",
        "# to the training and testing data\n",
        "y_dept_train_encoded = d_oneHot_Encoder.transform([[yd] for yd in y_train['Department']]).toarray()\n",
        "y_dept_test_encoded = d_oneHot_Encoder.transform([[yd] for yd in y_test['Department']]).toarray()"
      ]
    },
    {
      "cell_type": "code",
      "execution_count": 15,
      "metadata": {
        "colab": {
          "base_uri": "https://localhost:8080/"
        },
        "id": "-G4DSpvFRrk4",
        "outputId": "9842e948-8a55-4b80-8fac-f96714e85589"
      },
      "outputs": [
        {
          "name": "stderr",
          "output_type": "stream",
          "text": [
            "/Applications/anaconda3/envs/dev/lib/python3.10/site-packages/sklearn/preprocessing/_encoders.py:972: FutureWarning: `sparse` was renamed to `sparse_output` in version 1.2 and will be removed in 1.4. `sparse_output` is ignored unless you leave `sparse` to its default value.\n",
            "  warnings.warn(\n"
          ]
        }
      ],
      "source": [
        "# Create a OneHotEncoder for the Attrition column\n",
        "a_oneHot_Encoder = OneHotEncoder(sparse=True, drop='first')\n",
        "\n",
        "# Fit the encoder to the training data\n",
        "a_oneHot_Encoder.fit([[ya] for ya in y_train['Attrition']])\n",
        "\n",
        "# Create two new variables by applying the encoder\n",
        "# to the training and testing data\n",
        "y_attr_train_encoded = a_oneHot_Encoder.transform([[ya] for ya in y_train['Attrition']]).toarray()\n",
        "y_attr_test_encoded = a_oneHot_Encoder.transform([[ya] for ya in y_test['Attrition']]).toarray()\n"
      ]
    },
    {
      "cell_type": "markdown",
      "metadata": {
        "id": "ykNmu_WWGc3T"
      },
      "source": [
        "## Create, Compile, and Train the Model"
      ]
    },
    {
      "cell_type": "code",
      "execution_count": 16,
      "metadata": {
        "id": "WUptZqmSGc3T"
      },
      "outputs": [],
      "source": [
        "# Find the number of columns in the X training data\n",
        "input_data = len(final_X.columns)\n",
        "\n",
        "# Create the input layer\n",
        "input_layer = keras.layers.Input(shape=(input_data,), name='input_data')\n",
        "\n",
        "# Create at least two shared layers\n",
        "s_layer_1 = keras.layers.Dense(64, activation='relu', name='shared_layer1')(input_layer)\n",
        "s_layer_2 = keras.layers.Dense(64, activation='relu', name='shared_layer2')(s_layer_1)"
      ]
    },
    {
      "cell_type": "code",
      "execution_count": 17,
      "metadata": {
        "id": "JukjTm2yTEqd"
      },
      "outputs": [],
      "source": [
        "# Create a branch for Department\n",
        "# with a hidden layer and an output layer\n",
        "\n",
        "# Create the hidden layer\n",
        "h_dept_layer = keras.layers.Dense(32, activation='relu', name='h_dept_layer')(s_layer_2)\n",
        "\n",
        "# Create the output layer\n",
        "department = keras.layers.Dense(3, activation='softmax', name='department')(h_dept_layer)\n"
      ]
    },
    {
      "cell_type": "code",
      "execution_count": 18,
      "metadata": {
        "id": "9OqhUiOJUBkR"
      },
      "outputs": [],
      "source": [
        "# Create a branch for Attrition\n",
        "# with a hidden layer and an output layer\n",
        "\n",
        "# Create the hidden layer\n",
        "h_attr_layer = keras.layers.Dense(32, activation='relu', name='h_attr_layer')(s_layer_2)\n",
        "\n",
        "# Create the output layer\n",
        "attrition = keras.layers.Dense(1, activation='sigmoid', name='attrition')(h_attr_layer)"
      ]
    },
    {
      "cell_type": "code",
      "execution_count": 19,
      "metadata": {
        "colab": {
          "base_uri": "https://localhost:8080/"
        },
        "id": "twmuejdxGc3T",
        "outputId": "25096308-b68b-42e4-e4ea-ae82e97c435a"
      },
      "outputs": [
        {
          "data": {
            "text/html": [
              "<pre style=\"white-space:pre;overflow-x:auto;line-height:normal;font-family:Menlo,'DejaVu Sans Mono',consolas,'Courier New',monospace\"><span style=\"font-weight: bold\">Model: \"functional_1\"</span>\n",
              "</pre>\n"
            ],
            "text/plain": [
              "\u001b[1mModel: \"functional_1\"\u001b[0m\n"
            ]
          },
          "metadata": {},
          "output_type": "display_data"
        },
        {
          "data": {
            "text/html": [
              "<pre style=\"white-space:pre;overflow-x:auto;line-height:normal;font-family:Menlo,'DejaVu Sans Mono',consolas,'Courier New',monospace\">┏━━━━━━━━━━━━━━━━━━━━━┳━━━━━━━━━━━━━━━━━━━┳━━━━━━━━━━━━┳━━━━━━━━━━━━━━━━━━━┓\n",
              "┃<span style=\"font-weight: bold\"> Layer (type)        </span>┃<span style=\"font-weight: bold\"> Output Shape      </span>┃<span style=\"font-weight: bold\">    Param # </span>┃<span style=\"font-weight: bold\"> Connected to      </span>┃\n",
              "┡━━━━━━━━━━━━━━━━━━━━━╇━━━━━━━━━━━━━━━━━━━╇━━━━━━━━━━━━╇━━━━━━━━━━━━━━━━━━━┩\n",
              "│ input_data          │ (<span style=\"color: #00d7ff; text-decoration-color: #00d7ff\">None</span>, <span style=\"color: #00af00; text-decoration-color: #00af00\">16</span>)        │          <span style=\"color: #00af00; text-decoration-color: #00af00\">0</span> │ -                 │\n",
              "│ (<span style=\"color: #0087ff; text-decoration-color: #0087ff\">InputLayer</span>)        │                   │            │                   │\n",
              "├─────────────────────┼───────────────────┼────────────┼───────────────────┤\n",
              "│ shared_layer1       │ (<span style=\"color: #00d7ff; text-decoration-color: #00d7ff\">None</span>, <span style=\"color: #00af00; text-decoration-color: #00af00\">64</span>)        │      <span style=\"color: #00af00; text-decoration-color: #00af00\">1,088</span> │ input_data[<span style=\"color: #00af00; text-decoration-color: #00af00\">0</span>][<span style=\"color: #00af00; text-decoration-color: #00af00\">0</span>]  │\n",
              "│ (<span style=\"color: #0087ff; text-decoration-color: #0087ff\">Dense</span>)             │                   │            │                   │\n",
              "├─────────────────────┼───────────────────┼────────────┼───────────────────┤\n",
              "│ shared_layer2       │ (<span style=\"color: #00d7ff; text-decoration-color: #00d7ff\">None</span>, <span style=\"color: #00af00; text-decoration-color: #00af00\">64</span>)        │      <span style=\"color: #00af00; text-decoration-color: #00af00\">4,160</span> │ shared_layer1[<span style=\"color: #00af00; text-decoration-color: #00af00\">0</span>]… │\n",
              "│ (<span style=\"color: #0087ff; text-decoration-color: #0087ff\">Dense</span>)             │                   │            │                   │\n",
              "├─────────────────────┼───────────────────┼────────────┼───────────────────┤\n",
              "│ h_dept_layer        │ (<span style=\"color: #00d7ff; text-decoration-color: #00d7ff\">None</span>, <span style=\"color: #00af00; text-decoration-color: #00af00\">32</span>)        │      <span style=\"color: #00af00; text-decoration-color: #00af00\">2,080</span> │ shared_layer2[<span style=\"color: #00af00; text-decoration-color: #00af00\">0</span>]… │\n",
              "│ (<span style=\"color: #0087ff; text-decoration-color: #0087ff\">Dense</span>)             │                   │            │                   │\n",
              "├─────────────────────┼───────────────────┼────────────┼───────────────────┤\n",
              "│ h_attr_layer        │ (<span style=\"color: #00d7ff; text-decoration-color: #00d7ff\">None</span>, <span style=\"color: #00af00; text-decoration-color: #00af00\">32</span>)        │      <span style=\"color: #00af00; text-decoration-color: #00af00\">2,080</span> │ shared_layer2[<span style=\"color: #00af00; text-decoration-color: #00af00\">0</span>]… │\n",
              "│ (<span style=\"color: #0087ff; text-decoration-color: #0087ff\">Dense</span>)             │                   │            │                   │\n",
              "├─────────────────────┼───────────────────┼────────────┼───────────────────┤\n",
              "│ department (<span style=\"color: #0087ff; text-decoration-color: #0087ff\">Dense</span>)  │ (<span style=\"color: #00d7ff; text-decoration-color: #00d7ff\">None</span>, <span style=\"color: #00af00; text-decoration-color: #00af00\">3</span>)         │         <span style=\"color: #00af00; text-decoration-color: #00af00\">99</span> │ h_dept_layer[<span style=\"color: #00af00; text-decoration-color: #00af00\">0</span>][<span style=\"color: #00af00; text-decoration-color: #00af00\">…</span> │\n",
              "├─────────────────────┼───────────────────┼────────────┼───────────────────┤\n",
              "│ attrition (<span style=\"color: #0087ff; text-decoration-color: #0087ff\">Dense</span>)   │ (<span style=\"color: #00d7ff; text-decoration-color: #00d7ff\">None</span>, <span style=\"color: #00af00; text-decoration-color: #00af00\">1</span>)         │         <span style=\"color: #00af00; text-decoration-color: #00af00\">33</span> │ h_attr_layer[<span style=\"color: #00af00; text-decoration-color: #00af00\">0</span>][<span style=\"color: #00af00; text-decoration-color: #00af00\">…</span> │\n",
              "└─────────────────────┴───────────────────┴────────────┴───────────────────┘\n",
              "</pre>\n"
            ],
            "text/plain": [
              "┏━━━━━━━━━━━━━━━━━━━━━┳━━━━━━━━━━━━━━━━━━━┳━━━━━━━━━━━━┳━━━━━━━━━━━━━━━━━━━┓\n",
              "┃\u001b[1m \u001b[0m\u001b[1mLayer (type)       \u001b[0m\u001b[1m \u001b[0m┃\u001b[1m \u001b[0m\u001b[1mOutput Shape     \u001b[0m\u001b[1m \u001b[0m┃\u001b[1m \u001b[0m\u001b[1m   Param #\u001b[0m\u001b[1m \u001b[0m┃\u001b[1m \u001b[0m\u001b[1mConnected to     \u001b[0m\u001b[1m \u001b[0m┃\n",
              "┡━━━━━━━━━━━━━━━━━━━━━╇━━━━━━━━━━━━━━━━━━━╇━━━━━━━━━━━━╇━━━━━━━━━━━━━━━━━━━┩\n",
              "│ input_data          │ (\u001b[38;5;45mNone\u001b[0m, \u001b[38;5;34m16\u001b[0m)        │          \u001b[38;5;34m0\u001b[0m │ -                 │\n",
              "│ (\u001b[38;5;33mInputLayer\u001b[0m)        │                   │            │                   │\n",
              "├─────────────────────┼───────────────────┼────────────┼───────────────────┤\n",
              "│ shared_layer1       │ (\u001b[38;5;45mNone\u001b[0m, \u001b[38;5;34m64\u001b[0m)        │      \u001b[38;5;34m1,088\u001b[0m │ input_data[\u001b[38;5;34m0\u001b[0m][\u001b[38;5;34m0\u001b[0m]  │\n",
              "│ (\u001b[38;5;33mDense\u001b[0m)             │                   │            │                   │\n",
              "├─────────────────────┼───────────────────┼────────────┼───────────────────┤\n",
              "│ shared_layer2       │ (\u001b[38;5;45mNone\u001b[0m, \u001b[38;5;34m64\u001b[0m)        │      \u001b[38;5;34m4,160\u001b[0m │ shared_layer1[\u001b[38;5;34m0\u001b[0m]… │\n",
              "│ (\u001b[38;5;33mDense\u001b[0m)             │                   │            │                   │\n",
              "├─────────────────────┼───────────────────┼────────────┼───────────────────┤\n",
              "│ h_dept_layer        │ (\u001b[38;5;45mNone\u001b[0m, \u001b[38;5;34m32\u001b[0m)        │      \u001b[38;5;34m2,080\u001b[0m │ shared_layer2[\u001b[38;5;34m0\u001b[0m]… │\n",
              "│ (\u001b[38;5;33mDense\u001b[0m)             │                   │            │                   │\n",
              "├─────────────────────┼───────────────────┼────────────┼───────────────────┤\n",
              "│ h_attr_layer        │ (\u001b[38;5;45mNone\u001b[0m, \u001b[38;5;34m32\u001b[0m)        │      \u001b[38;5;34m2,080\u001b[0m │ shared_layer2[\u001b[38;5;34m0\u001b[0m]… │\n",
              "│ (\u001b[38;5;33mDense\u001b[0m)             │                   │            │                   │\n",
              "├─────────────────────┼───────────────────┼────────────┼───────────────────┤\n",
              "│ department (\u001b[38;5;33mDense\u001b[0m)  │ (\u001b[38;5;45mNone\u001b[0m, \u001b[38;5;34m3\u001b[0m)         │         \u001b[38;5;34m99\u001b[0m │ h_dept_layer[\u001b[38;5;34m0\u001b[0m][\u001b[38;5;34m…\u001b[0m │\n",
              "├─────────────────────┼───────────────────┼────────────┼───────────────────┤\n",
              "│ attrition (\u001b[38;5;33mDense\u001b[0m)   │ (\u001b[38;5;45mNone\u001b[0m, \u001b[38;5;34m1\u001b[0m)         │         \u001b[38;5;34m33\u001b[0m │ h_attr_layer[\u001b[38;5;34m0\u001b[0m][\u001b[38;5;34m…\u001b[0m │\n",
              "└─────────────────────┴───────────────────┴────────────┴───────────────────┘\n"
            ]
          },
          "metadata": {},
          "output_type": "display_data"
        },
        {
          "data": {
            "text/html": [
              "<pre style=\"white-space:pre;overflow-x:auto;line-height:normal;font-family:Menlo,'DejaVu Sans Mono',consolas,'Courier New',monospace\"><span style=\"font-weight: bold\"> Total params: </span><span style=\"color: #00af00; text-decoration-color: #00af00\">9,540</span> (37.27 KB)\n",
              "</pre>\n"
            ],
            "text/plain": [
              "\u001b[1m Total params: \u001b[0m\u001b[38;5;34m9,540\u001b[0m (37.27 KB)\n"
            ]
          },
          "metadata": {},
          "output_type": "display_data"
        },
        {
          "data": {
            "text/html": [
              "<pre style=\"white-space:pre;overflow-x:auto;line-height:normal;font-family:Menlo,'DejaVu Sans Mono',consolas,'Courier New',monospace\"><span style=\"font-weight: bold\"> Trainable params: </span><span style=\"color: #00af00; text-decoration-color: #00af00\">9,540</span> (37.27 KB)\n",
              "</pre>\n"
            ],
            "text/plain": [
              "\u001b[1m Trainable params: \u001b[0m\u001b[38;5;34m9,540\u001b[0m (37.27 KB)\n"
            ]
          },
          "metadata": {},
          "output_type": "display_data"
        },
        {
          "data": {
            "text/html": [
              "<pre style=\"white-space:pre;overflow-x:auto;line-height:normal;font-family:Menlo,'DejaVu Sans Mono',consolas,'Courier New',monospace\"><span style=\"font-weight: bold\"> Non-trainable params: </span><span style=\"color: #00af00; text-decoration-color: #00af00\">0</span> (0.00 B)\n",
              "</pre>\n"
            ],
            "text/plain": [
              "\u001b[1m Non-trainable params: \u001b[0m\u001b[38;5;34m0\u001b[0m (0.00 B)\n"
            ]
          },
          "metadata": {},
          "output_type": "display_data"
        }
      ],
      "source": [
        "# Create the model\n",
        "attrition_model = Model(inputs=input_layer, outputs=[department, attrition])\n",
        "\n",
        "# Compile the model\n",
        "attrition_model.compile(optimizer='adam', \n",
        "                        loss={'department': 'categorical_crossentropy', 'attrition': 'binary_crossentropy'},\n",
        "                        metrics={'department': 'accuracy',\n",
        "                       'attrition': 'accuracy'})\n",
        "\n",
        "# Summarize the model\n",
        "attrition_model.summary()"
      ]
    },
    {
      "cell_type": "code",
      "execution_count": 20,
      "metadata": {
        "colab": {
          "base_uri": "https://localhost:8080/"
        },
        "id": "c8oGy0dpGc3U",
        "outputId": "cc667d43-28cf-42d4-d719-c2bc02888d30"
      },
      "outputs": [
        {
          "name": "stdout",
          "output_type": "stream",
          "text": [
            "Epoch 1/100\n"
          ]
        },
        {
          "name": "stdout",
          "output_type": "stream",
          "text": [
            "\u001b[1m30/30\u001b[0m \u001b[32m━━━━━━━━━━━━━━━━━━━━\u001b[0m\u001b[37m\u001b[0m \u001b[1m1s\u001b[0m 4ms/step - attrition_accuracy: 0.8064 - department_accuracy: 0.6465 - loss: 1.4833 - val_attrition_accuracy: 0.8814 - val_department_accuracy: 0.6483 - val_loss: 1.1554\n",
            "Epoch 2/100\n",
            "\u001b[1m30/30\u001b[0m \u001b[32m━━━━━━━━━━━━━━━━━━━━\u001b[0m\u001b[37m\u001b[0m \u001b[1m0s\u001b[0m 1ms/step - attrition_accuracy: 0.8251 - department_accuracy: 0.6635 - loss: 1.2270 - val_attrition_accuracy: 0.8814 - val_department_accuracy: 0.6483 - val_loss: 1.1433\n",
            "Epoch 3/100\n",
            "\u001b[1m30/30\u001b[0m \u001b[32m━━━━━━━━━━━━━━━━━━━━\u001b[0m\u001b[37m\u001b[0m \u001b[1m0s\u001b[0m 1ms/step - attrition_accuracy: 0.8177 - department_accuracy: 0.6381 - loss: 1.2252 - val_attrition_accuracy: 0.8814 - val_department_accuracy: 0.6483 - val_loss: 1.1277\n",
            "Epoch 4/100\n",
            "\u001b[1m30/30\u001b[0m \u001b[32m━━━━━━━━━━━━━━━━━━━━\u001b[0m\u001b[37m\u001b[0m \u001b[1m0s\u001b[0m 1ms/step - attrition_accuracy: 0.8434 - department_accuracy: 0.6561 - loss: 1.1289 - val_attrition_accuracy: 0.8814 - val_department_accuracy: 0.6483 - val_loss: 1.1320\n",
            "Epoch 5/100\n",
            "\u001b[1m30/30\u001b[0m \u001b[32m━━━━━━━━━━━━━━━━━━━━\u001b[0m\u001b[37m\u001b[0m \u001b[1m0s\u001b[0m 1ms/step - attrition_accuracy: 0.8427 - department_accuracy: 0.6456 - loss: 1.1388 - val_attrition_accuracy: 0.8729 - val_department_accuracy: 0.6483 - val_loss: 1.1291\n",
            "Epoch 6/100\n",
            "\u001b[1m30/30\u001b[0m \u001b[32m━━━━━━━━━━━━━━━━━━━━\u001b[0m\u001b[37m\u001b[0m \u001b[1m0s\u001b[0m 1ms/step - attrition_accuracy: 0.8515 - department_accuracy: 0.6413 - loss: 1.0903 - val_attrition_accuracy: 0.8644 - val_department_accuracy: 0.6483 - val_loss: 1.1452\n",
            "Epoch 7/100\n",
            "\u001b[1m30/30\u001b[0m \u001b[32m━━━━━━━━━━━━━━━━━━━━\u001b[0m\u001b[37m\u001b[0m \u001b[1m0s\u001b[0m 1ms/step - attrition_accuracy: 0.8576 - department_accuracy: 0.6576 - loss: 1.0552 - val_attrition_accuracy: 0.8644 - val_department_accuracy: 0.6398 - val_loss: 1.1396\n",
            "Epoch 8/100\n",
            "\u001b[1m30/30\u001b[0m \u001b[32m━━━━━━━━━━━━━━━━━━━━\u001b[0m\u001b[37m\u001b[0m \u001b[1m0s\u001b[0m 1ms/step - attrition_accuracy: 0.8392 - department_accuracy: 0.6523 - loss: 1.1149 - val_attrition_accuracy: 0.8644 - val_department_accuracy: 0.6441 - val_loss: 1.1477\n",
            "Epoch 9/100\n",
            "\u001b[1m30/30\u001b[0m \u001b[32m━━━━━━━━━━━━━━━━━━━━\u001b[0m\u001b[37m\u001b[0m \u001b[1m0s\u001b[0m 1ms/step - attrition_accuracy: 0.8467 - department_accuracy: 0.6829 - loss: 1.0185 - val_attrition_accuracy: 0.8686 - val_department_accuracy: 0.6186 - val_loss: 1.1484\n",
            "Epoch 10/100\n",
            "\u001b[1m30/30\u001b[0m \u001b[32m━━━━━━━━━━━━━━━━━━━━\u001b[0m\u001b[37m\u001b[0m \u001b[1m0s\u001b[0m 1ms/step - attrition_accuracy: 0.8366 - department_accuracy: 0.6872 - loss: 1.0481 - val_attrition_accuracy: 0.8644 - val_department_accuracy: 0.6102 - val_loss: 1.1557\n",
            "Epoch 11/100\n",
            "\u001b[1m30/30\u001b[0m \u001b[32m━━━━━━━━━━━━━━━━━━━━\u001b[0m\u001b[37m\u001b[0m \u001b[1m0s\u001b[0m 1ms/step - attrition_accuracy: 0.8704 - department_accuracy: 0.7354 - loss: 0.9425 - val_attrition_accuracy: 0.8517 - val_department_accuracy: 0.6059 - val_loss: 1.1916\n",
            "Epoch 12/100\n",
            "\u001b[1m30/30\u001b[0m \u001b[32m━━━━━━━━━━━━━━━━━━━━\u001b[0m\u001b[37m\u001b[0m \u001b[1m0s\u001b[0m 1ms/step - attrition_accuracy: 0.8732 - department_accuracy: 0.7180 - loss: 0.9591 - val_attrition_accuracy: 0.8559 - val_department_accuracy: 0.6059 - val_loss: 1.1983\n",
            "Epoch 13/100\n",
            "\u001b[1m30/30\u001b[0m \u001b[32m━━━━━━━━━━━━━━━━━━━━\u001b[0m\u001b[37m\u001b[0m \u001b[1m0s\u001b[0m 1ms/step - attrition_accuracy: 0.8623 - department_accuracy: 0.7119 - loss: 0.9583 - val_attrition_accuracy: 0.8559 - val_department_accuracy: 0.6017 - val_loss: 1.2095\n",
            "Epoch 14/100\n",
            "\u001b[1m30/30\u001b[0m \u001b[32m━━━━━━━━━━━━━━━━━━━━\u001b[0m\u001b[37m\u001b[0m \u001b[1m0s\u001b[0m 1ms/step - attrition_accuracy: 0.8840 - department_accuracy: 0.7239 - loss: 0.9221 - val_attrition_accuracy: 0.8517 - val_department_accuracy: 0.5975 - val_loss: 1.2214\n",
            "Epoch 15/100\n",
            "\u001b[1m30/30\u001b[0m \u001b[32m━━━━━━━━━━━━━━━━━━━━\u001b[0m\u001b[37m\u001b[0m \u001b[1m0s\u001b[0m 1ms/step - attrition_accuracy: 0.8910 - department_accuracy: 0.7388 - loss: 0.8836 - val_attrition_accuracy: 0.8517 - val_department_accuracy: 0.6102 - val_loss: 1.2432\n",
            "Epoch 16/100\n",
            "\u001b[1m30/30\u001b[0m \u001b[32m━━━━━━━━━━━━━━━━━━━━\u001b[0m\u001b[37m\u001b[0m \u001b[1m0s\u001b[0m 1ms/step - attrition_accuracy: 0.8826 - department_accuracy: 0.7340 - loss: 0.9155 - val_attrition_accuracy: 0.8517 - val_department_accuracy: 0.5975 - val_loss: 1.2553\n",
            "Epoch 17/100\n",
            "\u001b[1m30/30\u001b[0m \u001b[32m━━━━━━━━━━━━━━━━━━━━\u001b[0m\u001b[37m\u001b[0m \u001b[1m0s\u001b[0m 1ms/step - attrition_accuracy: 0.8790 - department_accuracy: 0.7616 - loss: 0.8767 - val_attrition_accuracy: 0.8559 - val_department_accuracy: 0.6017 - val_loss: 1.2609\n",
            "Epoch 18/100\n",
            "\u001b[1m30/30\u001b[0m \u001b[32m━━━━━━━━━━━━━━━━━━━━\u001b[0m\u001b[37m\u001b[0m \u001b[1m0s\u001b[0m 1ms/step - attrition_accuracy: 0.8782 - department_accuracy: 0.7746 - loss: 0.8347 - val_attrition_accuracy: 0.8602 - val_department_accuracy: 0.5890 - val_loss: 1.2743\n",
            "Epoch 19/100\n",
            "\u001b[1m30/30\u001b[0m \u001b[32m━━━━━━━━━━━━━━━━━━━━\u001b[0m\u001b[37m\u001b[0m \u001b[1m0s\u001b[0m 1ms/step - attrition_accuracy: 0.8845 - department_accuracy: 0.7699 - loss: 0.8125 - val_attrition_accuracy: 0.8517 - val_department_accuracy: 0.5932 - val_loss: 1.3040\n",
            "Epoch 20/100\n",
            "\u001b[1m30/30\u001b[0m \u001b[32m━━━━━━━━━━━━━━━━━━━━\u001b[0m\u001b[37m\u001b[0m \u001b[1m0s\u001b[0m 1ms/step - attrition_accuracy: 0.8969 - department_accuracy: 0.7807 - loss: 0.7901 - val_attrition_accuracy: 0.8517 - val_department_accuracy: 0.5890 - val_loss: 1.3359\n",
            "Epoch 21/100\n",
            "\u001b[1m30/30\u001b[0m \u001b[32m━━━━━━━━━━━━━━━━━━━━\u001b[0m\u001b[37m\u001b[0m \u001b[1m0s\u001b[0m 1ms/step - attrition_accuracy: 0.9049 - department_accuracy: 0.7883 - loss: 0.7316 - val_attrition_accuracy: 0.8432 - val_department_accuracy: 0.5763 - val_loss: 1.3473\n",
            "Epoch 22/100\n",
            "\u001b[1m30/30\u001b[0m \u001b[32m━━━━━━━━━━━━━━━━━━━━\u001b[0m\u001b[37m\u001b[0m \u001b[1m0s\u001b[0m 1ms/step - attrition_accuracy: 0.9051 - department_accuracy: 0.8053 - loss: 0.7338 - val_attrition_accuracy: 0.8347 - val_department_accuracy: 0.6017 - val_loss: 1.3800\n",
            "Epoch 23/100\n",
            "\u001b[1m30/30\u001b[0m \u001b[32m━━━━━━━━━━━━━━━━━━━━\u001b[0m\u001b[37m\u001b[0m \u001b[1m0s\u001b[0m 1ms/step - attrition_accuracy: 0.8957 - department_accuracy: 0.7945 - loss: 0.7533 - val_attrition_accuracy: 0.8432 - val_department_accuracy: 0.5847 - val_loss: 1.3948\n",
            "Epoch 24/100\n",
            "\u001b[1m30/30\u001b[0m \u001b[32m━━━━━━━━━━━━━━━━━━━━\u001b[0m\u001b[37m\u001b[0m \u001b[1m0s\u001b[0m 1ms/step - attrition_accuracy: 0.8964 - department_accuracy: 0.8084 - loss: 0.7337 - val_attrition_accuracy: 0.8390 - val_department_accuracy: 0.5847 - val_loss: 1.4332\n",
            "Epoch 25/100\n",
            "\u001b[1m30/30\u001b[0m \u001b[32m━━━━━━━━━━━━━━━━━━━━\u001b[0m\u001b[37m\u001b[0m \u001b[1m0s\u001b[0m 1ms/step - attrition_accuracy: 0.9071 - department_accuracy: 0.8169 - loss: 0.7010 - val_attrition_accuracy: 0.8432 - val_department_accuracy: 0.5975 - val_loss: 1.4661\n",
            "Epoch 26/100\n",
            "\u001b[1m30/30\u001b[0m \u001b[32m━━━━━━━━━━━━━━━━━━━━\u001b[0m\u001b[37m\u001b[0m \u001b[1m0s\u001b[0m 2ms/step - attrition_accuracy: 0.9226 - department_accuracy: 0.8121 - loss: 0.6620 - val_attrition_accuracy: 0.8517 - val_department_accuracy: 0.5975 - val_loss: 1.4705\n",
            "Epoch 27/100\n",
            "\u001b[1m30/30\u001b[0m \u001b[32m━━━━━━━━━━━━━━━━━━━━\u001b[0m\u001b[37m\u001b[0m \u001b[1m0s\u001b[0m 1ms/step - attrition_accuracy: 0.9087 - department_accuracy: 0.8055 - loss: 0.6845 - val_attrition_accuracy: 0.8263 - val_department_accuracy: 0.5593 - val_loss: 1.5311\n",
            "Epoch 28/100\n",
            "\u001b[1m30/30\u001b[0m \u001b[32m━━━━━━━━━━━━━━━━━━━━\u001b[0m\u001b[37m\u001b[0m \u001b[1m0s\u001b[0m 1ms/step - attrition_accuracy: 0.9236 - department_accuracy: 0.8181 - loss: 0.6838 - val_attrition_accuracy: 0.8263 - val_department_accuracy: 0.5339 - val_loss: 1.5481\n",
            "Epoch 29/100\n",
            "\u001b[1m30/30\u001b[0m \u001b[32m━━━━━━━━━━━━━━━━━━━━\u001b[0m\u001b[37m\u001b[0m \u001b[1m0s\u001b[0m 1ms/step - attrition_accuracy: 0.9288 - department_accuracy: 0.8554 - loss: 0.6031 - val_attrition_accuracy: 0.8432 - val_department_accuracy: 0.5720 - val_loss: 1.5469\n",
            "Epoch 30/100\n",
            "\u001b[1m30/30\u001b[0m \u001b[32m━━━━━━━━━━━━━━━━━━━━\u001b[0m\u001b[37m\u001b[0m \u001b[1m0s\u001b[0m 1ms/step - attrition_accuracy: 0.9159 - department_accuracy: 0.8517 - loss: 0.5957 - val_attrition_accuracy: 0.8390 - val_department_accuracy: 0.5805 - val_loss: 1.5925\n",
            "Epoch 31/100\n",
            "\u001b[1m30/30\u001b[0m \u001b[32m━━━━━━━━━━━━━━━━━━━━\u001b[0m\u001b[37m\u001b[0m \u001b[1m0s\u001b[0m 1ms/step - attrition_accuracy: 0.9429 - department_accuracy: 0.8334 - loss: 0.5912 - val_attrition_accuracy: 0.8220 - val_department_accuracy: 0.5805 - val_loss: 1.6492\n",
            "Epoch 32/100\n",
            "\u001b[1m30/30\u001b[0m \u001b[32m━━━━━━━━━━━━━━━━━━━━\u001b[0m\u001b[37m\u001b[0m \u001b[1m0s\u001b[0m 1ms/step - attrition_accuracy: 0.9393 - department_accuracy: 0.8654 - loss: 0.5665 - val_attrition_accuracy: 0.8390 - val_department_accuracy: 0.5636 - val_loss: 1.6758\n",
            "Epoch 33/100\n",
            "\u001b[1m30/30\u001b[0m \u001b[32m━━━━━━━━━━━━━━━━━━━━\u001b[0m\u001b[37m\u001b[0m \u001b[1m0s\u001b[0m 1ms/step - attrition_accuracy: 0.9348 - department_accuracy: 0.8443 - loss: 0.5551 - val_attrition_accuracy: 0.8263 - val_department_accuracy: 0.5678 - val_loss: 1.6949\n",
            "Epoch 34/100\n",
            "\u001b[1m30/30\u001b[0m \u001b[32m━━━━━━━━━━━━━━━━━━━━\u001b[0m\u001b[37m\u001b[0m \u001b[1m0s\u001b[0m 1ms/step - attrition_accuracy: 0.9451 - department_accuracy: 0.8674 - loss: 0.4997 - val_attrition_accuracy: 0.8347 - val_department_accuracy: 0.5636 - val_loss: 1.7405\n",
            "Epoch 35/100\n",
            "\u001b[1m30/30\u001b[0m \u001b[32m━━━━━━━━━━━━━━━━━━━━\u001b[0m\u001b[37m\u001b[0m \u001b[1m0s\u001b[0m 1ms/step - attrition_accuracy: 0.9414 - department_accuracy: 0.8789 - loss: 0.5188 - val_attrition_accuracy: 0.8136 - val_department_accuracy: 0.5593 - val_loss: 1.7843\n",
            "Epoch 36/100\n",
            "\u001b[1m30/30\u001b[0m \u001b[32m━━━━━━━━━━━━━━━━━━━━\u001b[0m\u001b[37m\u001b[0m \u001b[1m0s\u001b[0m 1ms/step - attrition_accuracy: 0.9330 - department_accuracy: 0.8829 - loss: 0.4921 - val_attrition_accuracy: 0.8263 - val_department_accuracy: 0.5847 - val_loss: 1.8207\n",
            "Epoch 37/100\n",
            "\u001b[1m30/30\u001b[0m \u001b[32m━━━━━━━━━━━━━━━━━━━━\u001b[0m\u001b[37m\u001b[0m \u001b[1m0s\u001b[0m 1ms/step - attrition_accuracy: 0.9463 - department_accuracy: 0.8926 - loss: 0.4625 - val_attrition_accuracy: 0.8220 - val_department_accuracy: 0.5678 - val_loss: 1.8928\n",
            "Epoch 38/100\n",
            "\u001b[1m30/30\u001b[0m \u001b[32m━━━━━━━━━━━━━━━━━━━━\u001b[0m\u001b[37m\u001b[0m \u001b[1m0s\u001b[0m 1ms/step - attrition_accuracy: 0.9631 - department_accuracy: 0.8690 - loss: 0.4512 - val_attrition_accuracy: 0.8432 - val_department_accuracy: 0.5720 - val_loss: 1.8572\n",
            "Epoch 39/100\n",
            "\u001b[1m30/30\u001b[0m \u001b[32m━━━━━━━━━━━━━━━━━━━━\u001b[0m\u001b[37m\u001b[0m \u001b[1m0s\u001b[0m 1ms/step - attrition_accuracy: 0.9485 - department_accuracy: 0.9023 - loss: 0.4533 - val_attrition_accuracy: 0.8347 - val_department_accuracy: 0.5381 - val_loss: 1.9176\n",
            "Epoch 40/100\n",
            "\u001b[1m30/30\u001b[0m \u001b[32m━━━━━━━━━━━━━━━━━━━━\u001b[0m\u001b[37m\u001b[0m \u001b[1m0s\u001b[0m 1ms/step - attrition_accuracy: 0.9572 - department_accuracy: 0.8935 - loss: 0.4384 - val_attrition_accuracy: 0.8305 - val_department_accuracy: 0.5508 - val_loss: 1.9650\n",
            "Epoch 41/100\n",
            "\u001b[1m30/30\u001b[0m \u001b[32m━━━━━━━━━━━━━━━━━━━━\u001b[0m\u001b[37m\u001b[0m \u001b[1m0s\u001b[0m 1ms/step - attrition_accuracy: 0.9660 - department_accuracy: 0.9057 - loss: 0.4006 - val_attrition_accuracy: 0.8178 - val_department_accuracy: 0.5085 - val_loss: 1.9739\n",
            "Epoch 42/100\n",
            "\u001b[1m30/30\u001b[0m \u001b[32m━━━━━━━━━━━━━━━━━━━━\u001b[0m\u001b[37m\u001b[0m \u001b[1m0s\u001b[0m 1ms/step - attrition_accuracy: 0.9644 - department_accuracy: 0.9236 - loss: 0.3932 - val_attrition_accuracy: 0.8390 - val_department_accuracy: 0.5763 - val_loss: 2.0429\n",
            "Epoch 43/100\n",
            "\u001b[1m30/30\u001b[0m \u001b[32m━━━━━━━━━━━━━━━━━━━━\u001b[0m\u001b[37m\u001b[0m \u001b[1m0s\u001b[0m 1ms/step - attrition_accuracy: 0.9438 - department_accuracy: 0.9143 - loss: 0.3957 - val_attrition_accuracy: 0.8390 - val_department_accuracy: 0.5551 - val_loss: 2.0450\n",
            "Epoch 44/100\n",
            "\u001b[1m30/30\u001b[0m \u001b[32m━━━━━━━━━━━━━━━━━━━━\u001b[0m\u001b[37m\u001b[0m \u001b[1m0s\u001b[0m 1ms/step - attrition_accuracy: 0.9732 - department_accuracy: 0.9257 - loss: 0.3438 - val_attrition_accuracy: 0.8178 - val_department_accuracy: 0.5720 - val_loss: 2.0940\n",
            "Epoch 45/100\n",
            "\u001b[1m30/30\u001b[0m \u001b[32m━━━━━━━━━━━━━━━━━━━━\u001b[0m\u001b[37m\u001b[0m \u001b[1m0s\u001b[0m 1ms/step - attrition_accuracy: 0.9690 - department_accuracy: 0.9210 - loss: 0.3689 - val_attrition_accuracy: 0.8390 - val_department_accuracy: 0.5381 - val_loss: 2.1070\n",
            "Epoch 46/100\n",
            "\u001b[1m30/30\u001b[0m \u001b[32m━━━━━━━━━━━━━━━━━━━━\u001b[0m\u001b[37m\u001b[0m \u001b[1m0s\u001b[0m 1ms/step - attrition_accuracy: 0.9694 - department_accuracy: 0.9217 - loss: 0.3368 - val_attrition_accuracy: 0.8220 - val_department_accuracy: 0.5169 - val_loss: 2.2132\n",
            "Epoch 47/100\n",
            "\u001b[1m30/30\u001b[0m \u001b[32m━━━━━━━━━━━━━━━━━━━━\u001b[0m\u001b[37m\u001b[0m \u001b[1m0s\u001b[0m 1ms/step - attrition_accuracy: 0.9707 - department_accuracy: 0.9439 - loss: 0.3166 - val_attrition_accuracy: 0.8305 - val_department_accuracy: 0.5466 - val_loss: 2.1943\n",
            "Epoch 48/100\n",
            "\u001b[1m30/30\u001b[0m \u001b[32m━━━━━━━━━━━━━━━━━━━━\u001b[0m\u001b[37m\u001b[0m \u001b[1m0s\u001b[0m 2ms/step - attrition_accuracy: 0.9714 - department_accuracy: 0.9146 - loss: 0.3205 - val_attrition_accuracy: 0.8305 - val_department_accuracy: 0.5551 - val_loss: 2.2746\n",
            "Epoch 49/100\n",
            "\u001b[1m30/30\u001b[0m \u001b[32m━━━━━━━━━━━━━━━━━━━━\u001b[0m\u001b[37m\u001b[0m \u001b[1m0s\u001b[0m 1ms/step - attrition_accuracy: 0.9821 - department_accuracy: 0.9449 - loss: 0.2872 - val_attrition_accuracy: 0.8136 - val_department_accuracy: 0.5508 - val_loss: 2.3182\n",
            "Epoch 50/100\n",
            "\u001b[1m30/30\u001b[0m \u001b[32m━━━━━━━━━━━━━━━━━━━━\u001b[0m\u001b[37m\u001b[0m \u001b[1m0s\u001b[0m 1ms/step - attrition_accuracy: 0.9778 - department_accuracy: 0.9365 - loss: 0.2862 - val_attrition_accuracy: 0.8432 - val_department_accuracy: 0.5212 - val_loss: 2.3026\n",
            "Epoch 51/100\n",
            "\u001b[1m30/30\u001b[0m \u001b[32m━━━━━━━━━━━━━━━━━━━━\u001b[0m\u001b[37m\u001b[0m \u001b[1m0s\u001b[0m 1ms/step - attrition_accuracy: 0.9856 - department_accuracy: 0.9582 - loss: 0.2539 - val_attrition_accuracy: 0.8220 - val_department_accuracy: 0.5127 - val_loss: 2.3585\n",
            "Epoch 52/100\n",
            "\u001b[1m30/30\u001b[0m \u001b[32m━━━━━━━━━━━━━━━━━━━━\u001b[0m\u001b[37m\u001b[0m \u001b[1m0s\u001b[0m 1ms/step - attrition_accuracy: 0.9773 - department_accuracy: 0.9571 - loss: 0.2755 - val_attrition_accuracy: 0.8305 - val_department_accuracy: 0.5297 - val_loss: 2.4424\n",
            "Epoch 53/100\n",
            "\u001b[1m30/30\u001b[0m \u001b[32m━━━━━━━━━━━━━━━━━━━━\u001b[0m\u001b[37m\u001b[0m \u001b[1m0s\u001b[0m 1ms/step - attrition_accuracy: 0.9845 - department_accuracy: 0.9522 - loss: 0.2525 - val_attrition_accuracy: 0.8220 - val_department_accuracy: 0.5085 - val_loss: 2.4661\n",
            "Epoch 54/100\n",
            "\u001b[1m30/30\u001b[0m \u001b[32m━━━━━━━━━━━━━━━━━━━━\u001b[0m\u001b[37m\u001b[0m \u001b[1m0s\u001b[0m 1ms/step - attrition_accuracy: 0.9765 - department_accuracy: 0.9567 - loss: 0.2743 - val_attrition_accuracy: 0.8347 - val_department_accuracy: 0.5551 - val_loss: 2.5265\n",
            "Epoch 55/100\n",
            "\u001b[1m30/30\u001b[0m \u001b[32m━━━━━━━━━━━━━━━━━━━━\u001b[0m\u001b[37m\u001b[0m \u001b[1m0s\u001b[0m 1ms/step - attrition_accuracy: 0.9854 - department_accuracy: 0.9473 - loss: 0.2346 - val_attrition_accuracy: 0.8347 - val_department_accuracy: 0.5169 - val_loss: 2.4850\n",
            "Epoch 56/100\n",
            "\u001b[1m30/30\u001b[0m \u001b[32m━━━━━━━━━━━━━━━━━━━━\u001b[0m\u001b[37m\u001b[0m \u001b[1m0s\u001b[0m 1ms/step - attrition_accuracy: 0.9868 - department_accuracy: 0.9588 - loss: 0.2435 - val_attrition_accuracy: 0.8432 - val_department_accuracy: 0.5508 - val_loss: 2.6401\n",
            "Epoch 57/100\n",
            "\u001b[1m30/30\u001b[0m \u001b[32m━━━━━━━━━━━━━━━━━━━━\u001b[0m\u001b[37m\u001b[0m \u001b[1m0s\u001b[0m 1ms/step - attrition_accuracy: 0.9805 - department_accuracy: 0.9638 - loss: 0.2132 - val_attrition_accuracy: 0.8305 - val_department_accuracy: 0.5466 - val_loss: 2.6134\n",
            "Epoch 58/100\n",
            "\u001b[1m30/30\u001b[0m \u001b[32m━━━━━━━━━━━━━━━━━━━━\u001b[0m\u001b[37m\u001b[0m \u001b[1m0s\u001b[0m 1ms/step - attrition_accuracy: 0.9918 - department_accuracy: 0.9615 - loss: 0.1957 - val_attrition_accuracy: 0.8178 - val_department_accuracy: 0.5169 - val_loss: 2.6042\n",
            "Epoch 59/100\n",
            "\u001b[1m30/30\u001b[0m \u001b[32m━━━━━━━━━━━━━━━━━━━━\u001b[0m\u001b[37m\u001b[0m \u001b[1m0s\u001b[0m 1ms/step - attrition_accuracy: 0.9855 - department_accuracy: 0.9649 - loss: 0.1976 - val_attrition_accuracy: 0.8390 - val_department_accuracy: 0.5000 - val_loss: 2.6832\n",
            "Epoch 60/100\n",
            "\u001b[1m30/30\u001b[0m \u001b[32m━━━━━━━━━━━━━━━━━━━━\u001b[0m\u001b[37m\u001b[0m \u001b[1m0s\u001b[0m 1ms/step - attrition_accuracy: 0.9906 - department_accuracy: 0.9807 - loss: 0.1803 - val_attrition_accuracy: 0.8093 - val_department_accuracy: 0.5297 - val_loss: 2.7516\n",
            "Epoch 61/100\n",
            "\u001b[1m30/30\u001b[0m \u001b[32m━━━━━━━━━━━━━━━━━━━━\u001b[0m\u001b[37m\u001b[0m \u001b[1m0s\u001b[0m 1ms/step - attrition_accuracy: 0.9892 - department_accuracy: 0.9805 - loss: 0.1791 - val_attrition_accuracy: 0.8347 - val_department_accuracy: 0.5254 - val_loss: 2.7677\n",
            "Epoch 62/100\n",
            "\u001b[1m30/30\u001b[0m \u001b[32m━━━━━━━━━━━━━━━━━━━━\u001b[0m\u001b[37m\u001b[0m \u001b[1m0s\u001b[0m 1ms/step - attrition_accuracy: 0.9948 - department_accuracy: 0.9810 - loss: 0.1670 - val_attrition_accuracy: 0.8263 - val_department_accuracy: 0.5297 - val_loss: 2.8191\n",
            "Epoch 63/100\n",
            "\u001b[1m30/30\u001b[0m \u001b[32m━━━━━━━━━━━━━━━━━━━━\u001b[0m\u001b[37m\u001b[0m \u001b[1m0s\u001b[0m 1ms/step - attrition_accuracy: 0.9963 - department_accuracy: 0.9803 - loss: 0.1617 - val_attrition_accuracy: 0.8305 - val_department_accuracy: 0.5297 - val_loss: 2.8708\n",
            "Epoch 64/100\n",
            "\u001b[1m30/30\u001b[0m \u001b[32m━━━━━━━━━━━━━━━━━━━━\u001b[0m\u001b[37m\u001b[0m \u001b[1m0s\u001b[0m 1ms/step - attrition_accuracy: 0.9931 - department_accuracy: 0.9861 - loss: 0.1444 - val_attrition_accuracy: 0.8263 - val_department_accuracy: 0.5169 - val_loss: 2.8823\n",
            "Epoch 65/100\n",
            "\u001b[1m30/30\u001b[0m \u001b[32m━━━━━━━━━━━━━━━━━━━━\u001b[0m\u001b[37m\u001b[0m \u001b[1m0s\u001b[0m 1ms/step - attrition_accuracy: 0.9984 - department_accuracy: 0.9825 - loss: 0.1453 - val_attrition_accuracy: 0.8347 - val_department_accuracy: 0.5254 - val_loss: 3.0375\n",
            "Epoch 66/100\n",
            "\u001b[1m30/30\u001b[0m \u001b[32m━━━━━━━━━━━━━━━━━━━━\u001b[0m\u001b[37m\u001b[0m \u001b[1m0s\u001b[0m 1ms/step - attrition_accuracy: 0.9963 - department_accuracy: 0.9786 - loss: 0.1430 - val_attrition_accuracy: 0.8136 - val_department_accuracy: 0.5169 - val_loss: 3.0060\n",
            "Epoch 67/100\n",
            "\u001b[1m30/30\u001b[0m \u001b[32m━━━━━━━━━━━━━━━━━━━━\u001b[0m\u001b[37m\u001b[0m \u001b[1m0s\u001b[0m 2ms/step - attrition_accuracy: 0.9957 - department_accuracy: 0.9873 - loss: 0.1425 - val_attrition_accuracy: 0.8220 - val_department_accuracy: 0.5254 - val_loss: 3.0682\n",
            "Epoch 68/100\n",
            "\u001b[1m30/30\u001b[0m \u001b[32m━━━━━━━━━━━━━━━━━━━━\u001b[0m\u001b[37m\u001b[0m \u001b[1m0s\u001b[0m 1ms/step - attrition_accuracy: 0.9953 - department_accuracy: 0.9820 - loss: 0.1311 - val_attrition_accuracy: 0.8347 - val_department_accuracy: 0.5042 - val_loss: 3.0901\n",
            "Epoch 69/100\n",
            "\u001b[1m30/30\u001b[0m \u001b[32m━━━━━━━━━━━━━━━━━━━━\u001b[0m\u001b[37m\u001b[0m \u001b[1m0s\u001b[0m 1ms/step - attrition_accuracy: 0.9941 - department_accuracy: 0.9924 - loss: 0.1247 - val_attrition_accuracy: 0.8305 - val_department_accuracy: 0.5466 - val_loss: 3.1678\n",
            "Epoch 70/100\n",
            "\u001b[1m30/30\u001b[0m \u001b[32m━━━━━━━━━━━━━━━━━━━━\u001b[0m\u001b[37m\u001b[0m \u001b[1m0s\u001b[0m 1ms/step - attrition_accuracy: 0.9960 - department_accuracy: 0.9846 - loss: 0.1259 - val_attrition_accuracy: 0.8220 - val_department_accuracy: 0.5381 - val_loss: 3.2394\n",
            "Epoch 71/100\n",
            "\u001b[1m30/30\u001b[0m \u001b[32m━━━━━━━━━━━━━━━━━━━━\u001b[0m\u001b[37m\u001b[0m \u001b[1m0s\u001b[0m 1ms/step - attrition_accuracy: 0.9987 - department_accuracy: 0.9949 - loss: 0.1018 - val_attrition_accuracy: 0.8263 - val_department_accuracy: 0.5212 - val_loss: 3.2237\n",
            "Epoch 72/100\n",
            "\u001b[1m30/30\u001b[0m \u001b[32m━━━━━━━━━━━━━━━━━━━━\u001b[0m\u001b[37m\u001b[0m \u001b[1m0s\u001b[0m 1ms/step - attrition_accuracy: 0.9988 - department_accuracy: 0.9879 - loss: 0.1039 - val_attrition_accuracy: 0.8305 - val_department_accuracy: 0.5381 - val_loss: 3.2716\n",
            "Epoch 73/100\n",
            "\u001b[1m30/30\u001b[0m \u001b[32m━━━━━━━━━━━━━━━━━━━━\u001b[0m\u001b[37m\u001b[0m \u001b[1m0s\u001b[0m 1ms/step - attrition_accuracy: 0.9979 - department_accuracy: 0.9922 - loss: 0.0949 - val_attrition_accuracy: 0.8263 - val_department_accuracy: 0.5381 - val_loss: 3.3273\n",
            "Epoch 74/100\n",
            "\u001b[1m30/30\u001b[0m \u001b[32m━━━━━━━━━━━━━━━━━━━━\u001b[0m\u001b[37m\u001b[0m \u001b[1m0s\u001b[0m 1ms/step - attrition_accuracy: 0.9970 - department_accuracy: 0.9899 - loss: 0.1010 - val_attrition_accuracy: 0.8220 - val_department_accuracy: 0.4831 - val_loss: 3.2969\n",
            "Epoch 75/100\n",
            "\u001b[1m30/30\u001b[0m \u001b[32m━━━━━━━━━━━━━━━━━━━━\u001b[0m\u001b[37m\u001b[0m \u001b[1m0s\u001b[0m 1ms/step - attrition_accuracy: 0.9993 - department_accuracy: 0.9883 - loss: 0.1176 - val_attrition_accuracy: 0.8263 - val_department_accuracy: 0.5424 - val_loss: 3.3097\n",
            "Epoch 76/100\n",
            "\u001b[1m30/30\u001b[0m \u001b[32m━━━━━━━━━━━━━━━━━━━━\u001b[0m\u001b[37m\u001b[0m \u001b[1m0s\u001b[0m 1ms/step - attrition_accuracy: 1.0000 - department_accuracy: 0.9930 - loss: 0.0870 - val_attrition_accuracy: 0.8220 - val_department_accuracy: 0.5466 - val_loss: 3.4905\n",
            "Epoch 77/100\n",
            "\u001b[1m30/30\u001b[0m \u001b[32m━━━━━━━━━━━━━━━━━━━━\u001b[0m\u001b[37m\u001b[0m \u001b[1m0s\u001b[0m 1ms/step - attrition_accuracy: 0.9991 - department_accuracy: 0.9988 - loss: 0.0814 - val_attrition_accuracy: 0.8390 - val_department_accuracy: 0.5254 - val_loss: 3.4141\n",
            "Epoch 78/100\n",
            "\u001b[1m30/30\u001b[0m \u001b[32m━━━━━━━━━━━━━━━━━━━━\u001b[0m\u001b[37m\u001b[0m \u001b[1m0s\u001b[0m 1ms/step - attrition_accuracy: 0.9970 - department_accuracy: 0.9940 - loss: 0.0739 - val_attrition_accuracy: 0.8305 - val_department_accuracy: 0.5466 - val_loss: 3.5065\n",
            "Epoch 79/100\n",
            "\u001b[1m30/30\u001b[0m \u001b[32m━━━━━━━━━━━━━━━━━━━━\u001b[0m\u001b[37m\u001b[0m \u001b[1m0s\u001b[0m 1ms/step - attrition_accuracy: 1.0000 - department_accuracy: 0.9947 - loss: 0.0816 - val_attrition_accuracy: 0.8347 - val_department_accuracy: 0.5508 - val_loss: 3.6111\n",
            "Epoch 80/100\n",
            "\u001b[1m30/30\u001b[0m \u001b[32m━━━━━━━━━━━━━━━━━━━━\u001b[0m\u001b[37m\u001b[0m \u001b[1m0s\u001b[0m 1ms/step - attrition_accuracy: 1.0000 - department_accuracy: 0.9957 - loss: 0.0689 - val_attrition_accuracy: 0.8305 - val_department_accuracy: 0.5085 - val_loss: 3.5652\n",
            "Epoch 81/100\n",
            "\u001b[1m30/30\u001b[0m \u001b[32m━━━━━━━━━━━━━━━━━━━━\u001b[0m\u001b[37m\u001b[0m \u001b[1m0s\u001b[0m 1ms/step - attrition_accuracy: 0.9979 - department_accuracy: 0.9964 - loss: 0.0671 - val_attrition_accuracy: 0.8178 - val_department_accuracy: 0.5297 - val_loss: 3.6468\n",
            "Epoch 82/100\n",
            "\u001b[1m30/30\u001b[0m \u001b[32m━━━━━━━━━━━━━━━━━━━━\u001b[0m\u001b[37m\u001b[0m \u001b[1m0s\u001b[0m 1ms/step - attrition_accuracy: 0.9974 - department_accuracy: 0.9966 - loss: 0.0665 - val_attrition_accuracy: 0.8136 - val_department_accuracy: 0.5297 - val_loss: 3.6879\n",
            "Epoch 83/100\n",
            "\u001b[1m30/30\u001b[0m \u001b[32m━━━━━━━━━━━━━━━━━━━━\u001b[0m\u001b[37m\u001b[0m \u001b[1m0s\u001b[0m 1ms/step - attrition_accuracy: 1.0000 - department_accuracy: 0.9976 - loss: 0.0623 - val_attrition_accuracy: 0.8390 - val_department_accuracy: 0.5381 - val_loss: 3.7559\n",
            "Epoch 84/100\n",
            "\u001b[1m30/30\u001b[0m \u001b[32m━━━━━━━━━━━━━━━━━━━━\u001b[0m\u001b[37m\u001b[0m \u001b[1m0s\u001b[0m 1ms/step - attrition_accuracy: 0.9999 - department_accuracy: 0.9968 - loss: 0.0545 - val_attrition_accuracy: 0.8263 - val_department_accuracy: 0.5000 - val_loss: 3.7539\n",
            "Epoch 85/100\n",
            "\u001b[1m30/30\u001b[0m \u001b[32m━━━━━━━━━━━━━━━━━━━━\u001b[0m\u001b[37m\u001b[0m \u001b[1m0s\u001b[0m 1ms/step - attrition_accuracy: 0.9998 - department_accuracy: 0.9921 - loss: 0.0652 - val_attrition_accuracy: 0.8220 - val_department_accuracy: 0.5169 - val_loss: 3.8223\n",
            "Epoch 86/100\n",
            "\u001b[1m30/30\u001b[0m \u001b[32m━━━━━━━━━━━━━━━━━━━━\u001b[0m\u001b[37m\u001b[0m \u001b[1m0s\u001b[0m 2ms/step - attrition_accuracy: 0.9975 - department_accuracy: 0.9963 - loss: 0.0554 - val_attrition_accuracy: 0.8263 - val_department_accuracy: 0.5169 - val_loss: 3.7610\n",
            "Epoch 87/100\n",
            "\u001b[1m30/30\u001b[0m \u001b[32m━━━━━━━━━━━━━━━━━━━━\u001b[0m\u001b[37m\u001b[0m \u001b[1m0s\u001b[0m 1ms/step - attrition_accuracy: 1.0000 - department_accuracy: 0.9972 - loss: 0.0537 - val_attrition_accuracy: 0.8220 - val_department_accuracy: 0.5339 - val_loss: 3.9173\n",
            "Epoch 88/100\n",
            "\u001b[1m30/30\u001b[0m \u001b[32m━━━━━━━━━━━━━━━━━━━━\u001b[0m\u001b[37m\u001b[0m \u001b[1m0s\u001b[0m 1ms/step - attrition_accuracy: 1.0000 - department_accuracy: 0.9981 - loss: 0.0448 - val_attrition_accuracy: 0.8263 - val_department_accuracy: 0.5127 - val_loss: 3.9450\n",
            "Epoch 89/100\n",
            "\u001b[1m30/30\u001b[0m \u001b[32m━━━━━━━━━━━━━━━━━━━━\u001b[0m\u001b[37m\u001b[0m \u001b[1m0s\u001b[0m 1ms/step - attrition_accuracy: 1.0000 - department_accuracy: 0.9976 - loss: 0.0471 - val_attrition_accuracy: 0.8220 - val_department_accuracy: 0.5169 - val_loss: 3.9680\n",
            "Epoch 90/100\n",
            "\u001b[1m30/30\u001b[0m \u001b[32m━━━━━━━━━━━━━━━━━━━━\u001b[0m\u001b[37m\u001b[0m \u001b[1m0s\u001b[0m 1ms/step - attrition_accuracy: 1.0000 - department_accuracy: 0.9983 - loss: 0.0453 - val_attrition_accuracy: 0.8305 - val_department_accuracy: 0.5297 - val_loss: 4.0192\n",
            "Epoch 91/100\n",
            "\u001b[1m30/30\u001b[0m \u001b[32m━━━━━━━━━━━━━━━━━━━━\u001b[0m\u001b[37m\u001b[0m \u001b[1m0s\u001b[0m 1ms/step - attrition_accuracy: 1.0000 - department_accuracy: 0.9982 - loss: 0.0439 - val_attrition_accuracy: 0.8263 - val_department_accuracy: 0.5169 - val_loss: 4.0156\n",
            "Epoch 92/100\n",
            "\u001b[1m30/30\u001b[0m \u001b[32m━━━━━━━━━━━━━━━━━━━━\u001b[0m\u001b[37m\u001b[0m \u001b[1m0s\u001b[0m 1ms/step - attrition_accuracy: 1.0000 - department_accuracy: 0.9999 - loss: 0.0404 - val_attrition_accuracy: 0.8263 - val_department_accuracy: 0.5466 - val_loss: 4.0985\n",
            "Epoch 93/100\n",
            "\u001b[1m30/30\u001b[0m \u001b[32m━━━━━━━━━━━━━━━━━━━━\u001b[0m\u001b[37m\u001b[0m \u001b[1m0s\u001b[0m 1ms/step - attrition_accuracy: 1.0000 - department_accuracy: 0.9997 - loss: 0.0375 - val_attrition_accuracy: 0.8220 - val_department_accuracy: 0.5381 - val_loss: 4.1581\n",
            "Epoch 94/100\n",
            "\u001b[1m30/30\u001b[0m \u001b[32m━━━━━━━━━━━━━━━━━━━━\u001b[0m\u001b[37m\u001b[0m \u001b[1m0s\u001b[0m 1ms/step - attrition_accuracy: 1.0000 - department_accuracy: 0.9976 - loss: 0.0395 - val_attrition_accuracy: 0.8263 - val_department_accuracy: 0.5085 - val_loss: 4.1180\n",
            "Epoch 95/100\n",
            "\u001b[1m30/30\u001b[0m \u001b[32m━━━━━━━━━━━━━━━━━━━━\u001b[0m\u001b[37m\u001b[0m \u001b[1m0s\u001b[0m 1ms/step - attrition_accuracy: 1.0000 - department_accuracy: 0.9986 - loss: 0.0364 - val_attrition_accuracy: 0.8263 - val_department_accuracy: 0.5169 - val_loss: 4.1318\n",
            "Epoch 96/100\n",
            "\u001b[1m30/30\u001b[0m \u001b[32m━━━━━━━━━━━━━━━━━━━━\u001b[0m\u001b[37m\u001b[0m \u001b[1m0s\u001b[0m 1ms/step - attrition_accuracy: 1.0000 - department_accuracy: 0.9995 - loss: 0.0340 - val_attrition_accuracy: 0.8263 - val_department_accuracy: 0.5127 - val_loss: 4.1915\n",
            "Epoch 97/100\n",
            "\u001b[1m30/30\u001b[0m \u001b[32m━━━━━━━━━━━━━━━━━━━━\u001b[0m\u001b[37m\u001b[0m \u001b[1m0s\u001b[0m 1ms/step - attrition_accuracy: 1.0000 - department_accuracy: 0.9967 - loss: 0.0319 - val_attrition_accuracy: 0.8263 - val_department_accuracy: 0.5127 - val_loss: 4.2616\n",
            "Epoch 98/100\n",
            "\u001b[1m30/30\u001b[0m \u001b[32m━━━━━━━━━━━━━━━━━━━━\u001b[0m\u001b[37m\u001b[0m \u001b[1m0s\u001b[0m 1ms/step - attrition_accuracy: 1.0000 - department_accuracy: 0.9978 - loss: 0.0338 - val_attrition_accuracy: 0.8347 - val_department_accuracy: 0.5254 - val_loss: 4.2882\n",
            "Epoch 99/100\n",
            "\u001b[1m30/30\u001b[0m \u001b[32m━━━━━━━━━━━━━━━━━━━━\u001b[0m\u001b[37m\u001b[0m \u001b[1m0s\u001b[0m 1ms/step - attrition_accuracy: 1.0000 - department_accuracy: 0.9995 - loss: 0.0315 - val_attrition_accuracy: 0.8220 - val_department_accuracy: 0.5212 - val_loss: 4.3171\n",
            "Epoch 100/100\n",
            "\u001b[1m30/30\u001b[0m \u001b[32m━━━━━━━━━━━━━━━━━━━━\u001b[0m\u001b[37m\u001b[0m \u001b[1m0s\u001b[0m 1ms/step - attrition_accuracy: 1.0000 - department_accuracy: 0.9996 - loss: 0.0280 - val_attrition_accuracy: 0.8220 - val_department_accuracy: 0.5085 - val_loss: 4.3284\n"
          ]
        },
        {
          "data": {
            "text/plain": [
              "<keras.src.callbacks.history.History at 0x289ea3fd0>"
            ]
          },
          "execution_count": 20,
          "metadata": {},
          "output_type": "execute_result"
        }
      ],
      "source": [
        "# Train the model\n",
        "attrition_model.fit(X_train_scaled, \n",
        "                    {'department': y_dept_train_encoded, 'attrition': y_attr_train_encoded},\n",
        "                    epochs=100,\n",
        "                    validation_split=0.2)\n"
      ]
    },
    {
      "cell_type": "code",
      "execution_count": 21,
      "metadata": {
        "colab": {
          "base_uri": "https://localhost:8080/"
        },
        "id": "VsMoaQlgGc3U",
        "outputId": "1bd4e601-e964-4abc-ad83-aeecf6b696be"
      },
      "outputs": [
        {
          "name": "stdout",
          "output_type": "stream",
          "text": [
            "\u001b[1m10/10\u001b[0m \u001b[32m━━━━━━━━━━━━━━━━━━━━\u001b[0m\u001b[37m\u001b[0m \u001b[1m0s\u001b[0m 677us/step - attrition_accuracy: 0.7956 - department_accuracy: 0.5076 - loss: 4.7808\n"
          ]
        },
        {
          "data": {
            "text/plain": [
              "[4.5828046798706055, 0.8027210831642151, 0.5136054158210754]"
            ]
          },
          "execution_count": 21,
          "metadata": {},
          "output_type": "execute_result"
        }
      ],
      "source": [
        "# Evaluate the model with the testing data\n",
        "predictions = attrition_model.evaluate(X_test_scaled, \n",
        "                    {'department': y_dept_test_encoded, 'attrition': y_attr_test_encoded})\n",
        "\n",
        "predictions\n"
      ]
    },
    {
      "cell_type": "code",
      "execution_count": 22,
      "metadata": {
        "colab": {
          "base_uri": "https://localhost:8080/"
        },
        "id": "ZlCtlHi0Vt54",
        "outputId": "bc21ef3e-80c2-4b38-9c29-79515bc23dec"
      },
      "outputs": [
        {
          "name": "stdout",
          "output_type": "stream",
          "text": [
            "Department predictions accuracy: 0.5136054158210754\n",
            "Attrition predictions accuracy: 0.8027210831642151\n"
          ]
        }
      ],
      "source": [
        "# Print the accuracy for both department and attrition\n",
        "print(f'Department predictions accuracy: {predictions[2]}')\n",
        "print(f'Attrition predictions accuracy: {predictions[1]}')"
      ]
    },
    {
      "cell_type": "markdown",
      "metadata": {
        "id": "eGSyfsZfWOQM"
      },
      "source": [
        "# Summary\n",
        "\n",
        "In the provided space below, briefly answer the following questions.\n",
        "\n",
        "1. Is accuracy the best metric to use on this data? Why or why not?\n",
        "\n",
        "2. What activation functions did you choose for your output layers, and why?\n",
        "\n",
        "3. Can you name a few ways that this model might be improved?"
      ]
    },
    {
      "cell_type": "markdown",
      "metadata": {
        "id": "pi9SLpFnWvbF"
      },
      "source": [
        "YOUR ANSWERS HERE\n",
        "\n",
        "1. Yes accuracy is best metric to use, we can get precision too to check how precise the predictions are. \n",
        "2. Softmax for department since it is multi category and sigmoid for attrition as it is binary.\n",
        "3. Add more metrics and get better idea how the predictions are and improve the model based on that. Use different features in X and see if it performs better. Can use keras hyperband tuner to improve attrition accuracy. "
      ]
    },
    {
      "cell_type": "markdown",
      "metadata": {},
      "source": []
    }
  ],
  "metadata": {
    "colab": {
      "provenance": []
    },
    "kernelspec": {
      "display_name": "Python 3",
      "language": "python",
      "name": "python3"
    },
    "language_info": {
      "codemirror_mode": {
        "name": "ipython",
        "version": 3
      },
      "file_extension": ".py",
      "mimetype": "text/x-python",
      "name": "python",
      "nbconvert_exporter": "python",
      "pygments_lexer": "ipython3",
      "version": "3.10.8"
    },
    "vscode": {
      "interpreter": {
        "hash": "31f2aee4e71d21fbe5cf8b01ff0e069b9275f58929596ceb00d14d90e3e16cd6"
      }
    }
  },
  "nbformat": 4,
  "nbformat_minor": 0
}
